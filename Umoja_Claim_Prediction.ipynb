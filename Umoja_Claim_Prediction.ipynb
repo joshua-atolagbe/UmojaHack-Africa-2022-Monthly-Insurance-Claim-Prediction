{
 "cells": [
  {
   "cell_type": "markdown",
   "metadata": {},
   "source": [
    "## Introduction \n",
    "\n",
    "This is a repository that contains my code submission for the **`UmojaHack Africa 2022: Monthly Insurance Claim Prediction Challenge (INTERMEDIATE)`**.\n",
    "\n",
    "Short-term insurance claims are one of the largest costs in the insurance industry, and are extremely difficult to forecast. Zimnat Insurance wants to predict the value of future claims per client, in order to better forecast annual costs.\n",
    "\n",
    "The objective of this challenge is to create a machine learning model to predict how much a client will claim from Zimnat per month for a whole year.\n",
    "\n",
    "The solution will aid [Zimnat](https://www.zimnat.co.zw/) in being better prepared to address claims that are submitted, and improve customer satisfaction by alerting clients to possible claims they will make in the future.\n",
    "\n",
    "## Packages and libraries used:\n",
    "\n",
    "|S/N|Package|Use case|\n",
    "|---|-------|--------|\n",
    "|1.|`Scikit-learn`|Machine Learning package|\n",
    "|2.|`Numpy`|Numeric compuation|\n",
    "|3.|`Pandas`|Dataframe manipulation|\n",
    "|4.|`Matplotlib` and `Seaborn`|Visualisation|\n",
    "|5.|`Scipy`|Scientific computation|\n",
    "\n",
    "Code was written and compiled in `Jupyter Notebook`\n",
    "\n",
    "## Datasets\n",
    "Description to the dataset can be found [here](https://zindi.africa/competitions/umojahack-africa-2022-intermediate-challenge/data)\n",
    "\n",
    "\n",
    "## Approach\n",
    "\n",
    "I employed the use of a simple `ensemble` method of `ExtraTreesRegressor` of 65 trees to fit the data with the following hyperparameters:\n",
    "* `max_depth=3`\n",
    "* `criterion='mae'`\n",
    "* `n_estimators=65`\n",
    "* `n_jobs=-1`\n",
    "* `min_samples_leaf=3`\n",
    "* `min_samples_split=5` \n",
    "\n",
    "The data features with variance value lower than `0.9` were removed. That is,\n",
    "$$ var_{x} = (1-x)\\times{x}$$\n",
    "$$ x = threshold = 0.9$$\n",
    "The numeric values were scaled using the `z-score` normaization and the categorical features were `one-hot`encoded. Feature engineering technique was also employed.\n",
    "\n",
    "## Model Result\n",
    "<img src='./model.png'>\n",
    "\n",
    "A training mean-squared-error of $\\approx32341$ was attained. While the test MAE is $\\approx32543$. This high error is due to the untreated outlier values that the model was fitted on. \n",
    "\n",
    "## Suggestion\n",
    "This code is in no way the best approach. However, these are my suggestions:\n",
    "1. Add more data. The more the data, the more patterns are detected\n",
    "2. Treat oulier values in the `target` column\n",
    "3. Feature engineering\n",
    "4. Boosting of ensemble methods because number of observations is > than 1000"
   ]
  },
  {
   "cell_type": "markdown",
   "metadata": {},
   "source": [
    "## Libraries"
   ]
  },
  {
   "cell_type": "code",
   "execution_count": 1,
   "metadata": {},
   "outputs": [],
   "source": [
    "%matplotlib inline\n",
    "%config InlineBackend.figure_format = 'retina'\n",
    "\n",
    "import matplotlib.pyplot as plt\n",
    "import seaborn as sns\n",
    "from warnings import filterwarnings \n",
    "import pandas as pd\n",
    "import numpy as np\n",
    "\n",
    "filterwarnings('ignore')"
   ]
  },
  {
   "cell_type": "markdown",
   "metadata": {},
   "source": [
    "## 1. Data Loading "
   ]
  },
  {
   "cell_type": "code",
   "execution_count": 2,
   "metadata": {},
   "outputs": [
    {
     "data": {
      "text/html": [
       "<div>\n",
       "<style scoped>\n",
       "    .dataframe tbody tr th:only-of-type {\n",
       "        vertical-align: middle;\n",
       "    }\n",
       "\n",
       "    .dataframe tbody tr th {\n",
       "        vertical-align: top;\n",
       "    }\n",
       "\n",
       "    .dataframe thead th {\n",
       "        text-align: right;\n",
       "    }\n",
       "</style>\n",
       "<table border=\"1\" class=\"dataframe\">\n",
       "  <thead>\n",
       "    <tr style=\"text-align: right;\">\n",
       "      <th></th>\n",
       "      <th>claim_id</th>\n",
       "      <th>policy_number</th>\n",
       "      <th>claim_number</th>\n",
       "      <th>sum_insured</th>\n",
       "      <th>product</th>\n",
       "      <th>agent</th>\n",
       "      <th>class_of_business</th>\n",
       "      <th>risk_type</th>\n",
       "      <th>loss_date</th>\n",
       "      <th>client_type</th>\n",
       "      <th>renewal_frequency</th>\n",
       "      <th>primary_cause</th>\n",
       "      <th>secondary_cause</th>\n",
       "      <th>branch</th>\n",
       "      <th>target</th>\n",
       "    </tr>\n",
       "  </thead>\n",
       "  <tbody>\n",
       "    <tr>\n",
       "      <th>0</th>\n",
       "      <td>ID_JZ7QWRHH57RO</td>\n",
       "      <td>pol000009680</td>\n",
       "      <td>claim0011359</td>\n",
       "      <td>300000.0</td>\n",
       "      <td>prod00027</td>\n",
       "      <td>ag00068</td>\n",
       "      <td>cob00031</td>\n",
       "      <td>rt00006</td>\n",
       "      <td>2021-05-13</td>\n",
       "      <td>ct0003</td>\n",
       "      <td>rf0001</td>\n",
       "      <td>pc0007</td>\n",
       "      <td>sc00022</td>\n",
       "      <td>br00006</td>\n",
       "      <td>82150.00</td>\n",
       "    </tr>\n",
       "    <tr>\n",
       "      <th>1</th>\n",
       "      <td>ID_KQ5TJMVLJ4EP</td>\n",
       "      <td>pol000006869</td>\n",
       "      <td>claim0005272</td>\n",
       "      <td>16000.0</td>\n",
       "      <td>prod00005</td>\n",
       "      <td>ag00226</td>\n",
       "      <td>cob00010</td>\n",
       "      <td>rt00032</td>\n",
       "      <td>2018-05-13</td>\n",
       "      <td>ct0003</td>\n",
       "      <td>rf0001</td>\n",
       "      <td>pc0007</td>\n",
       "      <td>sc00023</td>\n",
       "      <td>br00002</td>\n",
       "      <td>3780.24</td>\n",
       "    </tr>\n",
       "    <tr>\n",
       "      <th>2</th>\n",
       "      <td>ID_NYHI7WJGGIAE</td>\n",
       "      <td>pol000006135</td>\n",
       "      <td>claim0004147</td>\n",
       "      <td>3000.0</td>\n",
       "      <td>prod00029</td>\n",
       "      <td>ag00037</td>\n",
       "      <td>cob00010</td>\n",
       "      <td>rt00026</td>\n",
       "      <td>2018-08-18</td>\n",
       "      <td>ct0003</td>\n",
       "      <td>rf0001</td>\n",
       "      <td>pc0007</td>\n",
       "      <td>sc00024</td>\n",
       "      <td>br00002</td>\n",
       "      <td>2196.50</td>\n",
       "    </tr>\n",
       "    <tr>\n",
       "      <th>3</th>\n",
       "      <td>ID_ROMMDCXYUXN5</td>\n",
       "      <td>pol000008991</td>\n",
       "      <td>claim0009962</td>\n",
       "      <td>6000.0</td>\n",
       "      <td>prod00005</td>\n",
       "      <td>ag00037</td>\n",
       "      <td>cob00009</td>\n",
       "      <td>rt00032</td>\n",
       "      <td>2018-12-20</td>\n",
       "      <td>ct0003</td>\n",
       "      <td>rf0001</td>\n",
       "      <td>pc0007</td>\n",
       "      <td>sc00021</td>\n",
       "      <td>br00001</td>\n",
       "      <td>105.67</td>\n",
       "    </tr>\n",
       "    <tr>\n",
       "      <th>4</th>\n",
       "      <td>ID_2OTD9NX8L73D</td>\n",
       "      <td>pol000007768</td>\n",
       "      <td>claim0007346</td>\n",
       "      <td>26850.0</td>\n",
       "      <td>prod00015</td>\n",
       "      <td>ag00226</td>\n",
       "      <td>cob00034</td>\n",
       "      <td>rt00023</td>\n",
       "      <td>2018-11-07</td>\n",
       "      <td>ct0001</td>\n",
       "      <td>rf0001</td>\n",
       "      <td>pc0007</td>\n",
       "      <td>sc00021</td>\n",
       "      <td>br00001</td>\n",
       "      <td>1605.64</td>\n",
       "    </tr>\n",
       "  </tbody>\n",
       "</table>\n",
       "</div>"
      ],
      "text/plain": [
       "          claim_id policy_number  claim_number  sum_insured    product  \\\n",
       "0  ID_JZ7QWRHH57RO  pol000009680  claim0011359     300000.0  prod00027   \n",
       "1  ID_KQ5TJMVLJ4EP  pol000006869  claim0005272      16000.0  prod00005   \n",
       "2  ID_NYHI7WJGGIAE  pol000006135  claim0004147       3000.0  prod00029   \n",
       "3  ID_ROMMDCXYUXN5  pol000008991  claim0009962       6000.0  prod00005   \n",
       "4  ID_2OTD9NX8L73D  pol000007768  claim0007346      26850.0  prod00015   \n",
       "\n",
       "     agent class_of_business risk_type   loss_date client_type  \\\n",
       "0  ag00068          cob00031   rt00006  2021-05-13      ct0003   \n",
       "1  ag00226          cob00010   rt00032  2018-05-13      ct0003   \n",
       "2  ag00037          cob00010   rt00026  2018-08-18      ct0003   \n",
       "3  ag00037          cob00009   rt00032  2018-12-20      ct0003   \n",
       "4  ag00226          cob00034   rt00023  2018-11-07      ct0001   \n",
       "\n",
       "  renewal_frequency primary_cause secondary_cause   branch    target  \n",
       "0            rf0001        pc0007         sc00022  br00006  82150.00  \n",
       "1            rf0001        pc0007         sc00023  br00002   3780.24  \n",
       "2            rf0001        pc0007         sc00024  br00002   2196.50  \n",
       "3            rf0001        pc0007         sc00021  br00001    105.67  \n",
       "4            rf0001        pc0007         sc00021  br00001   1605.64  "
      ]
     },
     "execution_count": 2,
     "metadata": {},
     "output_type": "execute_result"
    }
   ],
   "source": [
    "# Load files\n",
    "train_data = pd.read_csv('train.csv')\n",
    "policies = pd.read_csv('policies.csv')\n",
    "test_data = pd.read_csv('test.csv')\n",
    "sample_submission = pd.read_csv('SampleSubmission.csv')\n",
    "\n",
    "# Preview train dataset\n",
    "train_data.head()"
   ]
  },
  {
   "cell_type": "code",
   "execution_count": 3,
   "metadata": {},
   "outputs": [
    {
     "data": {
      "text/html": [
       "<div>\n",
       "<style scoped>\n",
       "    .dataframe tbody tr th:only-of-type {\n",
       "        vertical-align: middle;\n",
       "    }\n",
       "\n",
       "    .dataframe tbody tr th {\n",
       "        vertical-align: top;\n",
       "    }\n",
       "\n",
       "    .dataframe thead th {\n",
       "        text-align: right;\n",
       "    }\n",
       "</style>\n",
       "<table border=\"1\" class=\"dataframe\">\n",
       "  <thead>\n",
       "    <tr style=\"text-align: right;\">\n",
       "      <th></th>\n",
       "      <th>policy_number</th>\n",
       "      <th>product_code</th>\n",
       "      <th>trans_date</th>\n",
       "      <th>from_date</th>\n",
       "      <th>to_date</th>\n",
       "      <th>agent</th>\n",
       "      <th>class_of_business</th>\n",
       "      <th>client_type</th>\n",
       "      <th>renewal_frequency</th>\n",
       "      <th>branch</th>\n",
       "    </tr>\n",
       "  </thead>\n",
       "  <tbody>\n",
       "    <tr>\n",
       "      <th>0</th>\n",
       "      <td>pol000006995</td>\n",
       "      <td>prod00033</td>\n",
       "      <td>2017-07-01 08:24:55.800</td>\n",
       "      <td>2017-07-01 00:00:00.000</td>\n",
       "      <td>2018-07-01 00:00:00.000</td>\n",
       "      <td>ag00005</td>\n",
       "      <td>cob00035</td>\n",
       "      <td>ct0001</td>\n",
       "      <td>rf0002</td>\n",
       "      <td>br00002</td>\n",
       "    </tr>\n",
       "    <tr>\n",
       "      <th>1</th>\n",
       "      <td>pol000009828</td>\n",
       "      <td>prod00005</td>\n",
       "      <td>2017-07-01 09:04:02.217</td>\n",
       "      <td>2017-07-03 00:00:00.000</td>\n",
       "      <td>2017-11-02 00:00:00.000</td>\n",
       "      <td>ag00226</td>\n",
       "      <td>cob00009</td>\n",
       "      <td>ct0003</td>\n",
       "      <td>rf0001</td>\n",
       "      <td>br00006</td>\n",
       "    </tr>\n",
       "    <tr>\n",
       "      <th>2</th>\n",
       "      <td>pol000009828</td>\n",
       "      <td>prod00005</td>\n",
       "      <td>2017-07-01 09:04:02.217</td>\n",
       "      <td>2017-07-03 00:00:00.000</td>\n",
       "      <td>2017-11-02 00:00:00.000</td>\n",
       "      <td>ag00226</td>\n",
       "      <td>cob00031</td>\n",
       "      <td>ct0003</td>\n",
       "      <td>rf0001</td>\n",
       "      <td>br00006</td>\n",
       "    </tr>\n",
       "    <tr>\n",
       "      <th>3</th>\n",
       "      <td>pol000007729</td>\n",
       "      <td>prod00005</td>\n",
       "      <td>2017-07-01 09:36:53.843</td>\n",
       "      <td>2017-07-01 00:00:00.000</td>\n",
       "      <td>2017-10-31 00:00:00.000</td>\n",
       "      <td>ag00005</td>\n",
       "      <td>cob00031</td>\n",
       "      <td>ct0003</td>\n",
       "      <td>rf0001</td>\n",
       "      <td>br00002</td>\n",
       "    </tr>\n",
       "    <tr>\n",
       "      <th>4</th>\n",
       "      <td>pol000007729</td>\n",
       "      <td>prod00005</td>\n",
       "      <td>2017-07-01 09:36:53.843</td>\n",
       "      <td>2017-07-01 00:00:00.000</td>\n",
       "      <td>2017-10-31 00:00:00.000</td>\n",
       "      <td>ag00005</td>\n",
       "      <td>cob00009</td>\n",
       "      <td>ct0003</td>\n",
       "      <td>rf0001</td>\n",
       "      <td>br00002</td>\n",
       "    </tr>\n",
       "  </tbody>\n",
       "</table>\n",
       "</div>"
      ],
      "text/plain": [
       "  policy_number product_code               trans_date  \\\n",
       "0  pol000006995    prod00033  2017-07-01 08:24:55.800   \n",
       "1  pol000009828    prod00005  2017-07-01 09:04:02.217   \n",
       "2  pol000009828    prod00005  2017-07-01 09:04:02.217   \n",
       "3  pol000007729    prod00005  2017-07-01 09:36:53.843   \n",
       "4  pol000007729    prod00005  2017-07-01 09:36:53.843   \n",
       "\n",
       "                 from_date                  to_date    agent  \\\n",
       "0  2017-07-01 00:00:00.000  2018-07-01 00:00:00.000  ag00005   \n",
       "1  2017-07-03 00:00:00.000  2017-11-02 00:00:00.000  ag00226   \n",
       "2  2017-07-03 00:00:00.000  2017-11-02 00:00:00.000  ag00226   \n",
       "3  2017-07-01 00:00:00.000  2017-10-31 00:00:00.000  ag00005   \n",
       "4  2017-07-01 00:00:00.000  2017-10-31 00:00:00.000  ag00005   \n",
       "\n",
       "  class_of_business client_type renewal_frequency   branch  \n",
       "0          cob00035      ct0001            rf0002  br00002  \n",
       "1          cob00009      ct0003            rf0001  br00006  \n",
       "2          cob00031      ct0003            rf0001  br00006  \n",
       "3          cob00031      ct0003            rf0001  br00002  \n",
       "4          cob00009      ct0003            rf0001  br00002  "
      ]
     },
     "execution_count": 3,
     "metadata": {},
     "output_type": "execute_result"
    }
   ],
   "source": [
    "#preview policies\n",
    "policies.head()"
   ]
  },
  {
   "cell_type": "code",
   "execution_count": 4,
   "metadata": {},
   "outputs": [
    {
     "data": {
      "text/html": [
       "<div>\n",
       "<style scoped>\n",
       "    .dataframe tbody tr th:only-of-type {\n",
       "        vertical-align: middle;\n",
       "    }\n",
       "\n",
       "    .dataframe tbody tr th {\n",
       "        vertical-align: top;\n",
       "    }\n",
       "\n",
       "    .dataframe thead th {\n",
       "        text-align: right;\n",
       "    }\n",
       "</style>\n",
       "<table border=\"1\" class=\"dataframe\">\n",
       "  <thead>\n",
       "    <tr style=\"text-align: right;\">\n",
       "      <th></th>\n",
       "      <th>claim_id</th>\n",
       "      <th>target</th>\n",
       "    </tr>\n",
       "  </thead>\n",
       "  <tbody>\n",
       "    <tr>\n",
       "      <th>0</th>\n",
       "      <td>ID_4RO0KZI9BBW2</td>\n",
       "      <td>0</td>\n",
       "    </tr>\n",
       "    <tr>\n",
       "      <th>1</th>\n",
       "      <td>ID_GTE9ZUJ9GZ97</td>\n",
       "      <td>0</td>\n",
       "    </tr>\n",
       "    <tr>\n",
       "      <th>2</th>\n",
       "      <td>ID_RUVIYRKWZ4RG</td>\n",
       "      <td>0</td>\n",
       "    </tr>\n",
       "    <tr>\n",
       "      <th>3</th>\n",
       "      <td>ID_J81X8SWU6JYN</td>\n",
       "      <td>0</td>\n",
       "    </tr>\n",
       "    <tr>\n",
       "      <th>4</th>\n",
       "      <td>ID_94NM3JJAWWOQ</td>\n",
       "      <td>0</td>\n",
       "    </tr>\n",
       "  </tbody>\n",
       "</table>\n",
       "</div>"
      ],
      "text/plain": [
       "          claim_id  target\n",
       "0  ID_4RO0KZI9BBW2       0\n",
       "1  ID_GTE9ZUJ9GZ97       0\n",
       "2  ID_RUVIYRKWZ4RG       0\n",
       "3  ID_J81X8SWU6JYN       0\n",
       "4  ID_94NM3JJAWWOQ       0"
      ]
     },
     "execution_count": 4,
     "metadata": {},
     "output_type": "execute_result"
    }
   ],
   "source": [
    "#samplesubmission data\n",
    "sample_submission.head()"
   ]
  },
  {
   "cell_type": "code",
   "execution_count": 5,
   "metadata": {},
   "outputs": [
    {
     "data": {
      "text/html": [
       "<div>\n",
       "<style scoped>\n",
       "    .dataframe tbody tr th:only-of-type {\n",
       "        vertical-align: middle;\n",
       "    }\n",
       "\n",
       "    .dataframe tbody tr th {\n",
       "        vertical-align: top;\n",
       "    }\n",
       "\n",
       "    .dataframe thead th {\n",
       "        text-align: right;\n",
       "    }\n",
       "</style>\n",
       "<table border=\"1\" class=\"dataframe\">\n",
       "  <thead>\n",
       "    <tr style=\"text-align: right;\">\n",
       "      <th></th>\n",
       "      <th>claim_id</th>\n",
       "      <th>policy_number</th>\n",
       "      <th>claim_number</th>\n",
       "      <th>sum_insured</th>\n",
       "      <th>product</th>\n",
       "      <th>agent</th>\n",
       "      <th>class_of_business</th>\n",
       "      <th>risk_type</th>\n",
       "      <th>loss_date</th>\n",
       "      <th>client_type</th>\n",
       "      <th>renewal_frequency</th>\n",
       "      <th>primary_cause</th>\n",
       "      <th>secondary_cause</th>\n",
       "      <th>branch</th>\n",
       "    </tr>\n",
       "  </thead>\n",
       "  <tbody>\n",
       "    <tr>\n",
       "      <th>0</th>\n",
       "      <td>ID_4RO0KZI9BBW2</td>\n",
       "      <td>pol000007115</td>\n",
       "      <td>claim0005757</td>\n",
       "      <td>300000.0</td>\n",
       "      <td>prod00005</td>\n",
       "      <td>ag00068</td>\n",
       "      <td>cob00009</td>\n",
       "      <td>rt00032</td>\n",
       "      <td>2021-03-11</td>\n",
       "      <td>ct0003</td>\n",
       "      <td>rf0001</td>\n",
       "      <td>pc0007</td>\n",
       "      <td>sc00029</td>\n",
       "      <td>br00004</td>\n",
       "    </tr>\n",
       "    <tr>\n",
       "      <th>1</th>\n",
       "      <td>ID_GTE9ZUJ9GZ97</td>\n",
       "      <td>pol000006008</td>\n",
       "      <td>claim0003037</td>\n",
       "      <td>2700000.0</td>\n",
       "      <td>prod00015</td>\n",
       "      <td>ag00064</td>\n",
       "      <td>cob00034</td>\n",
       "      <td>rt00023</td>\n",
       "      <td>2020-06-25</td>\n",
       "      <td>ct0001</td>\n",
       "      <td>rf0003</td>\n",
       "      <td>pc0007</td>\n",
       "      <td>sc00022</td>\n",
       "      <td>br00002</td>\n",
       "    </tr>\n",
       "    <tr>\n",
       "      <th>2</th>\n",
       "      <td>ID_RUVIYRKWZ4RG</td>\n",
       "      <td>pol000007651</td>\n",
       "      <td>claim0006507</td>\n",
       "      <td>4071352.0</td>\n",
       "      <td>prod00012</td>\n",
       "      <td>ag00021</td>\n",
       "      <td>cob00016</td>\n",
       "      <td>rt00015</td>\n",
       "      <td>2019-03-14</td>\n",
       "      <td>ct0001</td>\n",
       "      <td>rf0001</td>\n",
       "      <td>pc0011</td>\n",
       "      <td>sc00049</td>\n",
       "      <td>br00001</td>\n",
       "    </tr>\n",
       "    <tr>\n",
       "      <th>3</th>\n",
       "      <td>ID_J81X8SWU6JYN</td>\n",
       "      <td>pol000010981</td>\n",
       "      <td>claim0013636</td>\n",
       "      <td>0.0</td>\n",
       "      <td>prod00002</td>\n",
       "      <td>ag00037</td>\n",
       "      <td>cob00002</td>\n",
       "      <td>rt00002</td>\n",
       "      <td>2018-12-04</td>\n",
       "      <td>ct0001</td>\n",
       "      <td>rf0002</td>\n",
       "      <td>pc0002</td>\n",
       "      <td>sc00012</td>\n",
       "      <td>br00005</td>\n",
       "    </tr>\n",
       "    <tr>\n",
       "      <th>4</th>\n",
       "      <td>ID_94NM3JJAWWOQ</td>\n",
       "      <td>pol000005926</td>\n",
       "      <td>claim0001750</td>\n",
       "      <td>1607178.0</td>\n",
       "      <td>prod00015</td>\n",
       "      <td>ag00037</td>\n",
       "      <td>cob00034</td>\n",
       "      <td>rt00023</td>\n",
       "      <td>2019-09-18</td>\n",
       "      <td>ct0001</td>\n",
       "      <td>rf0003</td>\n",
       "      <td>pc0007</td>\n",
       "      <td>sc00022</td>\n",
       "      <td>br00002</td>\n",
       "    </tr>\n",
       "  </tbody>\n",
       "</table>\n",
       "</div>"
      ],
      "text/plain": [
       "          claim_id policy_number  claim_number  sum_insured    product  \\\n",
       "0  ID_4RO0KZI9BBW2  pol000007115  claim0005757     300000.0  prod00005   \n",
       "1  ID_GTE9ZUJ9GZ97  pol000006008  claim0003037    2700000.0  prod00015   \n",
       "2  ID_RUVIYRKWZ4RG  pol000007651  claim0006507    4071352.0  prod00012   \n",
       "3  ID_J81X8SWU6JYN  pol000010981  claim0013636          0.0  prod00002   \n",
       "4  ID_94NM3JJAWWOQ  pol000005926  claim0001750    1607178.0  prod00015   \n",
       "\n",
       "     agent class_of_business risk_type   loss_date client_type  \\\n",
       "0  ag00068          cob00009   rt00032  2021-03-11      ct0003   \n",
       "1  ag00064          cob00034   rt00023  2020-06-25      ct0001   \n",
       "2  ag00021          cob00016   rt00015  2019-03-14      ct0001   \n",
       "3  ag00037          cob00002   rt00002  2018-12-04      ct0001   \n",
       "4  ag00037          cob00034   rt00023  2019-09-18      ct0001   \n",
       "\n",
       "  renewal_frequency primary_cause secondary_cause   branch  \n",
       "0            rf0001        pc0007         sc00029  br00004  \n",
       "1            rf0003        pc0007         sc00022  br00002  \n",
       "2            rf0001        pc0011         sc00049  br00001  \n",
       "3            rf0002        pc0002         sc00012  br00005  \n",
       "4            rf0003        pc0007         sc00022  br00002  "
      ]
     },
     "execution_count": 5,
     "metadata": {},
     "output_type": "execute_result"
    }
   ],
   "source": [
    "#preview test data\n",
    "test_data.head()"
   ]
  },
  {
   "cell_type": "code",
   "execution_count": 6,
   "metadata": {},
   "outputs": [
    {
     "data": {
      "text/plain": [
       "((9376, 15), (4019, 14), (4019, 2), (30371, 10))"
      ]
     },
     "execution_count": 6,
     "metadata": {},
     "output_type": "execute_result"
    }
   ],
   "source": [
    "train_data.shape, test_data.shape, sample_submission.shape, policies.shape"
   ]
  },
  {
   "cell_type": "code",
   "execution_count": 7,
   "metadata": {},
   "outputs": [],
   "source": [
    "policies.trans_date = pd.to_datetime(policies.trans_date, errors='coerce', infer_datetime_format=True, format=\"%Y-%m-%d %H:%M:%S\")"
   ]
  },
  {
   "cell_type": "code",
   "execution_count": 8,
   "metadata": {},
   "outputs": [],
   "source": [
    "policies.from_date = pd.to_datetime(policies.from_date, errors='coerce', infer_datetime_format=True, format=\"%Y-%m-%d %H:%M:%S\")\n",
    "policies.to_date = pd.to_datetime(policies.to_date, errors='coerce', infer_datetime_format=True, format=\"%Y-%m-%d %H:%M:%S\")"
   ]
  },
  {
   "cell_type": "code",
   "execution_count": 9,
   "metadata": {
    "scrolled": true
   },
   "outputs": [
    {
     "data": {
      "text/plain": [
       "policy_number                object\n",
       "product_code                 object\n",
       "trans_date           datetime64[ns]\n",
       "from_date            datetime64[ns]\n",
       "to_date              datetime64[ns]\n",
       "agent                        object\n",
       "class_of_business            object\n",
       "client_type                  object\n",
       "renewal_frequency            object\n",
       "branch                       object\n",
       "dtype: object"
      ]
     },
     "execution_count": 9,
     "metadata": {},
     "output_type": "execute_result"
    }
   ],
   "source": [
    "policies.dtypes"
   ]
  },
  {
   "cell_type": "code",
   "execution_count": 10,
   "metadata": {},
   "outputs": [],
   "source": [
    "combined = pd.concat([train_data, policies[['trans_date', 'from_date', 'to_date']]], ignore_index=True, axis='columns',join='inner', keys='policy_number')"
   ]
  },
  {
   "cell_type": "code",
   "execution_count": 11,
   "metadata": {},
   "outputs": [
    {
     "name": "stdout",
     "output_type": "stream",
     "text": [
      "<class 'pandas.core.frame.DataFrame'>\n",
      "RangeIndex: 9376 entries, 0 to 9375\n",
      "Data columns (total 18 columns):\n",
      " #   Column  Non-Null Count  Dtype         \n",
      "---  ------  --------------  -----         \n",
      " 0   0       9376 non-null   object        \n",
      " 1   1       9290 non-null   object        \n",
      " 2   2       9376 non-null   object        \n",
      " 3   3       9376 non-null   float64       \n",
      " 4   4       9376 non-null   object        \n",
      " 5   5       9376 non-null   object        \n",
      " 6   6       9376 non-null   object        \n",
      " 7   7       9376 non-null   object        \n",
      " 8   8       9376 non-null   object        \n",
      " 9   9       9376 non-null   object        \n",
      " 10  10      9376 non-null   object        \n",
      " 11  11      9376 non-null   object        \n",
      " 12  12      9376 non-null   object        \n",
      " 13  13      9376 non-null   object        \n",
      " 14  14      9376 non-null   float64       \n",
      " 15  15      9376 non-null   datetime64[ns]\n",
      " 16  16      9376 non-null   datetime64[ns]\n",
      " 17  17      9376 non-null   datetime64[ns]\n",
      "dtypes: datetime64[ns](3), float64(2), object(13)\n",
      "memory usage: 1.3+ MB\n"
     ]
    }
   ],
   "source": [
    "combined.info()"
   ]
  },
  {
   "cell_type": "code",
   "execution_count": 12,
   "metadata": {
    "scrolled": true
   },
   "outputs": [
    {
     "data": {
      "text/html": [
       "<div>\n",
       "<style scoped>\n",
       "    .dataframe tbody tr th:only-of-type {\n",
       "        vertical-align: middle;\n",
       "    }\n",
       "\n",
       "    .dataframe tbody tr th {\n",
       "        vertical-align: top;\n",
       "    }\n",
       "\n",
       "    .dataframe thead th {\n",
       "        text-align: right;\n",
       "    }\n",
       "</style>\n",
       "<table border=\"1\" class=\"dataframe\">\n",
       "  <thead>\n",
       "    <tr style=\"text-align: right;\">\n",
       "      <th></th>\n",
       "      <th>0</th>\n",
       "      <th>1</th>\n",
       "      <th>2</th>\n",
       "      <th>3</th>\n",
       "      <th>4</th>\n",
       "      <th>5</th>\n",
       "      <th>6</th>\n",
       "      <th>7</th>\n",
       "      <th>8</th>\n",
       "      <th>9</th>\n",
       "      <th>10</th>\n",
       "      <th>11</th>\n",
       "      <th>12</th>\n",
       "      <th>13</th>\n",
       "      <th>14</th>\n",
       "      <th>15</th>\n",
       "      <th>16</th>\n",
       "      <th>17</th>\n",
       "    </tr>\n",
       "  </thead>\n",
       "  <tbody>\n",
       "    <tr>\n",
       "      <th>0</th>\n",
       "      <td>ID_JZ7QWRHH57RO</td>\n",
       "      <td>pol000009680</td>\n",
       "      <td>claim0011359</td>\n",
       "      <td>300000.0</td>\n",
       "      <td>prod00027</td>\n",
       "      <td>ag00068</td>\n",
       "      <td>cob00031</td>\n",
       "      <td>rt00006</td>\n",
       "      <td>2021-05-13</td>\n",
       "      <td>ct0003</td>\n",
       "      <td>rf0001</td>\n",
       "      <td>pc0007</td>\n",
       "      <td>sc00022</td>\n",
       "      <td>br00006</td>\n",
       "      <td>82150.0</td>\n",
       "      <td>2017-07-01 08:24:55.800</td>\n",
       "      <td>2017-07-01</td>\n",
       "      <td>2018-07-01</td>\n",
       "    </tr>\n",
       "  </tbody>\n",
       "</table>\n",
       "</div>"
      ],
      "text/plain": [
       "                 0             1             2         3          4        5  \\\n",
       "0  ID_JZ7QWRHH57RO  pol000009680  claim0011359  300000.0  prod00027  ag00068   \n",
       "\n",
       "          6        7           8       9      10      11       12       13  \\\n",
       "0  cob00031  rt00006  2021-05-13  ct0003  rf0001  pc0007  sc00022  br00006   \n",
       "\n",
       "        14                      15         16         17  \n",
       "0  82150.0 2017-07-01 08:24:55.800 2017-07-01 2018-07-01  "
      ]
     },
     "execution_count": 12,
     "metadata": {},
     "output_type": "execute_result"
    }
   ],
   "source": [
    "combined.head(1)"
   ]
  },
  {
   "cell_type": "code",
   "execution_count": 13,
   "metadata": {},
   "outputs": [
    {
     "data": {
      "text/plain": [
       "Index(['claim_id', 'policy_number', 'claim_number', 'sum_insured', 'product',\n",
       "       'agent', 'class_of_business', 'risk_type', 'loss_date', 'client_type',\n",
       "       'renewal_frequency', 'primary_cause', 'secondary_cause', 'branch',\n",
       "       'target'],\n",
       "      dtype='object')"
      ]
     },
     "execution_count": 13,
     "metadata": {},
     "output_type": "execute_result"
    }
   ],
   "source": [
    "train_data.columns"
   ]
  },
  {
   "cell_type": "code",
   "execution_count": 14,
   "metadata": {},
   "outputs": [],
   "source": [
    "combined.columns = ['claim_id', 'policy_number', 'claim_number', 'sum_insured', 'product',\n",
    "       'agent', 'class_of_business', 'risk_type', 'loss_date', 'client_type',\n",
    "       'renewal_frequency', 'primary_cause', 'secondary_cause', 'branch',\n",
    "       'target', 'trans_date', 'from_date', 'to_date']"
   ]
  },
  {
   "cell_type": "code",
   "execution_count": 15,
   "metadata": {},
   "outputs": [
    {
     "data": {
      "text/html": [
       "<div>\n",
       "<style scoped>\n",
       "    .dataframe tbody tr th:only-of-type {\n",
       "        vertical-align: middle;\n",
       "    }\n",
       "\n",
       "    .dataframe tbody tr th {\n",
       "        vertical-align: top;\n",
       "    }\n",
       "\n",
       "    .dataframe thead th {\n",
       "        text-align: right;\n",
       "    }\n",
       "</style>\n",
       "<table border=\"1\" class=\"dataframe\">\n",
       "  <thead>\n",
       "    <tr style=\"text-align: right;\">\n",
       "      <th></th>\n",
       "      <th>claim_id</th>\n",
       "      <th>policy_number</th>\n",
       "      <th>claim_number</th>\n",
       "      <th>sum_insured</th>\n",
       "      <th>product</th>\n",
       "      <th>agent</th>\n",
       "      <th>class_of_business</th>\n",
       "      <th>risk_type</th>\n",
       "      <th>loss_date</th>\n",
       "      <th>client_type</th>\n",
       "      <th>renewal_frequency</th>\n",
       "      <th>primary_cause</th>\n",
       "      <th>secondary_cause</th>\n",
       "      <th>branch</th>\n",
       "      <th>target</th>\n",
       "      <th>trans_date</th>\n",
       "      <th>from_date</th>\n",
       "      <th>to_date</th>\n",
       "    </tr>\n",
       "  </thead>\n",
       "  <tbody>\n",
       "    <tr>\n",
       "      <th>0</th>\n",
       "      <td>ID_JZ7QWRHH57RO</td>\n",
       "      <td>pol000009680</td>\n",
       "      <td>claim0011359</td>\n",
       "      <td>300000.0</td>\n",
       "      <td>prod00027</td>\n",
       "      <td>ag00068</td>\n",
       "      <td>cob00031</td>\n",
       "      <td>rt00006</td>\n",
       "      <td>2021-05-13</td>\n",
       "      <td>ct0003</td>\n",
       "      <td>rf0001</td>\n",
       "      <td>pc0007</td>\n",
       "      <td>sc00022</td>\n",
       "      <td>br00006</td>\n",
       "      <td>82150.0</td>\n",
       "      <td>2017-07-01 08:24:55.800</td>\n",
       "      <td>2017-07-01</td>\n",
       "      <td>2018-07-01</td>\n",
       "    </tr>\n",
       "  </tbody>\n",
       "</table>\n",
       "</div>"
      ],
      "text/plain": [
       "          claim_id policy_number  claim_number  sum_insured    product  \\\n",
       "0  ID_JZ7QWRHH57RO  pol000009680  claim0011359     300000.0  prod00027   \n",
       "\n",
       "     agent class_of_business risk_type   loss_date client_type  \\\n",
       "0  ag00068          cob00031   rt00006  2021-05-13      ct0003   \n",
       "\n",
       "  renewal_frequency primary_cause secondary_cause   branch   target  \\\n",
       "0            rf0001        pc0007         sc00022  br00006  82150.0   \n",
       "\n",
       "               trans_date  from_date    to_date  \n",
       "0 2017-07-01 08:24:55.800 2017-07-01 2018-07-01  "
      ]
     },
     "execution_count": 15,
     "metadata": {},
     "output_type": "execute_result"
    }
   ],
   "source": [
    "combined.head(1)"
   ]
  },
  {
   "cell_type": "code",
   "execution_count": 16,
   "metadata": {},
   "outputs": [],
   "source": [
    "#policies[policies['trans_date'] == ]"
   ]
  },
  {
   "cell_type": "markdown",
   "metadata": {},
   "source": [
    "## 3. Summary statistics"
   ]
  },
  {
   "cell_type": "code",
   "execution_count": 17,
   "metadata": {
    "scrolled": false
   },
   "outputs": [
    {
     "data": {
      "text/html": [
       "<div>\n",
       "<style scoped>\n",
       "    .dataframe tbody tr th:only-of-type {\n",
       "        vertical-align: middle;\n",
       "    }\n",
       "\n",
       "    .dataframe tbody tr th {\n",
       "        vertical-align: top;\n",
       "    }\n",
       "\n",
       "    .dataframe thead th {\n",
       "        text-align: right;\n",
       "    }\n",
       "</style>\n",
       "<table border=\"1\" class=\"dataframe\">\n",
       "  <thead>\n",
       "    <tr style=\"text-align: right;\">\n",
       "      <th></th>\n",
       "      <th>claim_id</th>\n",
       "      <th>policy_number</th>\n",
       "      <th>claim_number</th>\n",
       "      <th>sum_insured</th>\n",
       "      <th>product</th>\n",
       "      <th>agent</th>\n",
       "      <th>class_of_business</th>\n",
       "      <th>risk_type</th>\n",
       "      <th>loss_date</th>\n",
       "      <th>client_type</th>\n",
       "      <th>renewal_frequency</th>\n",
       "      <th>primary_cause</th>\n",
       "      <th>secondary_cause</th>\n",
       "      <th>branch</th>\n",
       "      <th>target</th>\n",
       "    </tr>\n",
       "  </thead>\n",
       "  <tbody>\n",
       "    <tr>\n",
       "      <th>count</th>\n",
       "      <td>9376</td>\n",
       "      <td>9290</td>\n",
       "      <td>9376</td>\n",
       "      <td>9.376000e+03</td>\n",
       "      <td>9376</td>\n",
       "      <td>9376</td>\n",
       "      <td>9376</td>\n",
       "      <td>9376</td>\n",
       "      <td>9376</td>\n",
       "      <td>9376</td>\n",
       "      <td>9376</td>\n",
       "      <td>9376</td>\n",
       "      <td>9376</td>\n",
       "      <td>9376</td>\n",
       "      <td>9.376000e+03</td>\n",
       "    </tr>\n",
       "    <tr>\n",
       "      <th>unique</th>\n",
       "      <td>9376</td>\n",
       "      <td>4076</td>\n",
       "      <td>9167</td>\n",
       "      <td>NaN</td>\n",
       "      <td>37</td>\n",
       "      <td>8</td>\n",
       "      <td>37</td>\n",
       "      <td>50</td>\n",
       "      <td>1359</td>\n",
       "      <td>3</td>\n",
       "      <td>5</td>\n",
       "      <td>21</td>\n",
       "      <td>74</td>\n",
       "      <td>11</td>\n",
       "      <td>NaN</td>\n",
       "    </tr>\n",
       "    <tr>\n",
       "      <th>top</th>\n",
       "      <td>ID_JNTFYXE1MCCA</td>\n",
       "      <td>pol000006026</td>\n",
       "      <td>claim0006437</td>\n",
       "      <td>NaN</td>\n",
       "      <td>prod00015</td>\n",
       "      <td>ag00037</td>\n",
       "      <td>cob00034</td>\n",
       "      <td>rt00023</td>\n",
       "      <td>2019-08-20</td>\n",
       "      <td>ct0001</td>\n",
       "      <td>rf0002</td>\n",
       "      <td>pc0007</td>\n",
       "      <td>sc00023</td>\n",
       "      <td>br00002</td>\n",
       "      <td>NaN</td>\n",
       "    </tr>\n",
       "    <tr>\n",
       "      <th>freq</th>\n",
       "      <td>1</td>\n",
       "      <td>254</td>\n",
       "      <td>3</td>\n",
       "      <td>NaN</td>\n",
       "      <td>4411</td>\n",
       "      <td>3114</td>\n",
       "      <td>3608</td>\n",
       "      <td>3771</td>\n",
       "      <td>83</td>\n",
       "      <td>6096</td>\n",
       "      <td>4853</td>\n",
       "      <td>7396</td>\n",
       "      <td>2980</td>\n",
       "      <td>3900</td>\n",
       "      <td>NaN</td>\n",
       "    </tr>\n",
       "    <tr>\n",
       "      <th>mean</th>\n",
       "      <td>NaN</td>\n",
       "      <td>NaN</td>\n",
       "      <td>NaN</td>\n",
       "      <td>8.534790e+06</td>\n",
       "      <td>NaN</td>\n",
       "      <td>NaN</td>\n",
       "      <td>NaN</td>\n",
       "      <td>NaN</td>\n",
       "      <td>NaN</td>\n",
       "      <td>NaN</td>\n",
       "      <td>NaN</td>\n",
       "      <td>NaN</td>\n",
       "      <td>NaN</td>\n",
       "      <td>NaN</td>\n",
       "      <td>4.146471e+04</td>\n",
       "    </tr>\n",
       "    <tr>\n",
       "      <th>std</th>\n",
       "      <td>NaN</td>\n",
       "      <td>NaN</td>\n",
       "      <td>NaN</td>\n",
       "      <td>1.125565e+08</td>\n",
       "      <td>NaN</td>\n",
       "      <td>NaN</td>\n",
       "      <td>NaN</td>\n",
       "      <td>NaN</td>\n",
       "      <td>NaN</td>\n",
       "      <td>NaN</td>\n",
       "      <td>NaN</td>\n",
       "      <td>NaN</td>\n",
       "      <td>NaN</td>\n",
       "      <td>NaN</td>\n",
       "      <td>2.084347e+05</td>\n",
       "    </tr>\n",
       "    <tr>\n",
       "      <th>min</th>\n",
       "      <td>NaN</td>\n",
       "      <td>NaN</td>\n",
       "      <td>NaN</td>\n",
       "      <td>0.000000e+00</td>\n",
       "      <td>NaN</td>\n",
       "      <td>NaN</td>\n",
       "      <td>NaN</td>\n",
       "      <td>NaN</td>\n",
       "      <td>NaN</td>\n",
       "      <td>NaN</td>\n",
       "      <td>NaN</td>\n",
       "      <td>NaN</td>\n",
       "      <td>NaN</td>\n",
       "      <td>NaN</td>\n",
       "      <td>0.000000e+00</td>\n",
       "    </tr>\n",
       "    <tr>\n",
       "      <th>25%</th>\n",
       "      <td>NaN</td>\n",
       "      <td>NaN</td>\n",
       "      <td>NaN</td>\n",
       "      <td>6.500000e+03</td>\n",
       "      <td>NaN</td>\n",
       "      <td>NaN</td>\n",
       "      <td>NaN</td>\n",
       "      <td>NaN</td>\n",
       "      <td>NaN</td>\n",
       "      <td>NaN</td>\n",
       "      <td>NaN</td>\n",
       "      <td>NaN</td>\n",
       "      <td>NaN</td>\n",
       "      <td>NaN</td>\n",
       "      <td>2.879250e+02</td>\n",
       "    </tr>\n",
       "    <tr>\n",
       "      <th>50%</th>\n",
       "      <td>NaN</td>\n",
       "      <td>NaN</td>\n",
       "      <td>NaN</td>\n",
       "      <td>5.054200e+04</td>\n",
       "      <td>NaN</td>\n",
       "      <td>NaN</td>\n",
       "      <td>NaN</td>\n",
       "      <td>NaN</td>\n",
       "      <td>NaN</td>\n",
       "      <td>NaN</td>\n",
       "      <td>NaN</td>\n",
       "      <td>NaN</td>\n",
       "      <td>NaN</td>\n",
       "      <td>NaN</td>\n",
       "      <td>1.956925e+03</td>\n",
       "    </tr>\n",
       "    <tr>\n",
       "      <th>75%</th>\n",
       "      <td>NaN</td>\n",
       "      <td>NaN</td>\n",
       "      <td>NaN</td>\n",
       "      <td>4.200000e+05</td>\n",
       "      <td>NaN</td>\n",
       "      <td>NaN</td>\n",
       "      <td>NaN</td>\n",
       "      <td>NaN</td>\n",
       "      <td>NaN</td>\n",
       "      <td>NaN</td>\n",
       "      <td>NaN</td>\n",
       "      <td>NaN</td>\n",
       "      <td>NaN</td>\n",
       "      <td>NaN</td>\n",
       "      <td>1.270064e+04</td>\n",
       "    </tr>\n",
       "    <tr>\n",
       "      <th>max</th>\n",
       "      <td>NaN</td>\n",
       "      <td>NaN</td>\n",
       "      <td>NaN</td>\n",
       "      <td>5.211868e+09</td>\n",
       "      <td>NaN</td>\n",
       "      <td>NaN</td>\n",
       "      <td>NaN</td>\n",
       "      <td>NaN</td>\n",
       "      <td>NaN</td>\n",
       "      <td>NaN</td>\n",
       "      <td>NaN</td>\n",
       "      <td>NaN</td>\n",
       "      <td>NaN</td>\n",
       "      <td>NaN</td>\n",
       "      <td>7.868591e+06</td>\n",
       "    </tr>\n",
       "  </tbody>\n",
       "</table>\n",
       "</div>"
      ],
      "text/plain": [
       "               claim_id policy_number  claim_number   sum_insured    product  \\\n",
       "count              9376          9290          9376  9.376000e+03       9376   \n",
       "unique             9376          4076          9167           NaN         37   \n",
       "top     ID_JNTFYXE1MCCA  pol000006026  claim0006437           NaN  prod00015   \n",
       "freq                  1           254             3           NaN       4411   \n",
       "mean                NaN           NaN           NaN  8.534790e+06        NaN   \n",
       "std                 NaN           NaN           NaN  1.125565e+08        NaN   \n",
       "min                 NaN           NaN           NaN  0.000000e+00        NaN   \n",
       "25%                 NaN           NaN           NaN  6.500000e+03        NaN   \n",
       "50%                 NaN           NaN           NaN  5.054200e+04        NaN   \n",
       "75%                 NaN           NaN           NaN  4.200000e+05        NaN   \n",
       "max                 NaN           NaN           NaN  5.211868e+09        NaN   \n",
       "\n",
       "          agent class_of_business risk_type   loss_date client_type  \\\n",
       "count      9376              9376      9376        9376        9376   \n",
       "unique        8                37        50        1359           3   \n",
       "top     ag00037          cob00034   rt00023  2019-08-20      ct0001   \n",
       "freq       3114              3608      3771          83        6096   \n",
       "mean        NaN               NaN       NaN         NaN         NaN   \n",
       "std         NaN               NaN       NaN         NaN         NaN   \n",
       "min         NaN               NaN       NaN         NaN         NaN   \n",
       "25%         NaN               NaN       NaN         NaN         NaN   \n",
       "50%         NaN               NaN       NaN         NaN         NaN   \n",
       "75%         NaN               NaN       NaN         NaN         NaN   \n",
       "max         NaN               NaN       NaN         NaN         NaN   \n",
       "\n",
       "       renewal_frequency primary_cause secondary_cause   branch        target  \n",
       "count               9376          9376            9376     9376  9.376000e+03  \n",
       "unique                 5            21              74       11           NaN  \n",
       "top               rf0002        pc0007         sc00023  br00002           NaN  \n",
       "freq                4853          7396            2980     3900           NaN  \n",
       "mean                 NaN           NaN             NaN      NaN  4.146471e+04  \n",
       "std                  NaN           NaN             NaN      NaN  2.084347e+05  \n",
       "min                  NaN           NaN             NaN      NaN  0.000000e+00  \n",
       "25%                  NaN           NaN             NaN      NaN  2.879250e+02  \n",
       "50%                  NaN           NaN             NaN      NaN  1.956925e+03  \n",
       "75%                  NaN           NaN             NaN      NaN  1.270064e+04  \n",
       "max                  NaN           NaN             NaN      NaN  7.868591e+06  "
      ]
     },
     "execution_count": 17,
     "metadata": {},
     "output_type": "execute_result"
    }
   ],
   "source": [
    "train_data.describe(include='all')"
   ]
  },
  {
   "cell_type": "code",
   "execution_count": 18,
   "metadata": {},
   "outputs": [
    {
     "data": {
      "text/html": [
       "<div>\n",
       "<style scoped>\n",
       "    .dataframe tbody tr th:only-of-type {\n",
       "        vertical-align: middle;\n",
       "    }\n",
       "\n",
       "    .dataframe tbody tr th {\n",
       "        vertical-align: top;\n",
       "    }\n",
       "\n",
       "    .dataframe thead th {\n",
       "        text-align: right;\n",
       "    }\n",
       "</style>\n",
       "<table border=\"1\" class=\"dataframe\">\n",
       "  <thead>\n",
       "    <tr style=\"text-align: right;\">\n",
       "      <th></th>\n",
       "      <th>policy_number</th>\n",
       "      <th>product_code</th>\n",
       "      <th>trans_date</th>\n",
       "      <th>from_date</th>\n",
       "      <th>to_date</th>\n",
       "      <th>agent</th>\n",
       "      <th>class_of_business</th>\n",
       "      <th>client_type</th>\n",
       "      <th>renewal_frequency</th>\n",
       "      <th>branch</th>\n",
       "    </tr>\n",
       "  </thead>\n",
       "  <tbody>\n",
       "    <tr>\n",
       "      <th>count</th>\n",
       "      <td>30371</td>\n",
       "      <td>30371</td>\n",
       "      <td>30371</td>\n",
       "      <td>30371</td>\n",
       "      <td>30371</td>\n",
       "      <td>30371</td>\n",
       "      <td>30325</td>\n",
       "      <td>30371</td>\n",
       "      <td>30371</td>\n",
       "      <td>30371</td>\n",
       "    </tr>\n",
       "    <tr>\n",
       "      <th>unique</th>\n",
       "      <td>5217</td>\n",
       "      <td>37</td>\n",
       "      <td>20836</td>\n",
       "      <td>1431</td>\n",
       "      <td>1369</td>\n",
       "      <td>223</td>\n",
       "      <td>37</td>\n",
       "      <td>3</td>\n",
       "      <td>5</td>\n",
       "      <td>11</td>\n",
       "    </tr>\n",
       "    <tr>\n",
       "      <th>top</th>\n",
       "      <td>pol000005951</td>\n",
       "      <td>prod00005</td>\n",
       "      <td>2020-07-01 08:45:55.653000</td>\n",
       "      <td>2018-02-01 00:00:00</td>\n",
       "      <td>2019-01-31 00:00:00</td>\n",
       "      <td>ag00226</td>\n",
       "      <td>cob00031</td>\n",
       "      <td>ct0001</td>\n",
       "      <td>rf0001</td>\n",
       "      <td>br00002</td>\n",
       "    </tr>\n",
       "    <tr>\n",
       "      <th>freq</th>\n",
       "      <td>174</td>\n",
       "      <td>9994</td>\n",
       "      <td>14</td>\n",
       "      <td>1122</td>\n",
       "      <td>1463</td>\n",
       "      <td>4620</td>\n",
       "      <td>7755</td>\n",
       "      <td>16747</td>\n",
       "      <td>14184</td>\n",
       "      <td>13636</td>\n",
       "    </tr>\n",
       "    <tr>\n",
       "      <th>first</th>\n",
       "      <td>NaN</td>\n",
       "      <td>NaN</td>\n",
       "      <td>2017-07-01 08:24:55.800000</td>\n",
       "      <td>2017-01-01 00:00:00</td>\n",
       "      <td>2017-07-31 00:00:00</td>\n",
       "      <td>NaN</td>\n",
       "      <td>NaN</td>\n",
       "      <td>NaN</td>\n",
       "      <td>NaN</td>\n",
       "      <td>NaN</td>\n",
       "    </tr>\n",
       "    <tr>\n",
       "      <th>last</th>\n",
       "      <td>NaN</td>\n",
       "      <td>NaN</td>\n",
       "      <td>2021-11-01 16:02:25.817000</td>\n",
       "      <td>2021-11-17 00:00:00</td>\n",
       "      <td>2024-12-31 00:00:00</td>\n",
       "      <td>NaN</td>\n",
       "      <td>NaN</td>\n",
       "      <td>NaN</td>\n",
       "      <td>NaN</td>\n",
       "      <td>NaN</td>\n",
       "    </tr>\n",
       "  </tbody>\n",
       "</table>\n",
       "</div>"
      ],
      "text/plain": [
       "       policy_number product_code                  trans_date  \\\n",
       "count          30371        30371                       30371   \n",
       "unique          5217           37                       20836   \n",
       "top     pol000005951    prod00005  2020-07-01 08:45:55.653000   \n",
       "freq             174         9994                          14   \n",
       "first            NaN          NaN  2017-07-01 08:24:55.800000   \n",
       "last             NaN          NaN  2021-11-01 16:02:25.817000   \n",
       "\n",
       "                  from_date              to_date    agent class_of_business  \\\n",
       "count                 30371                30371    30371             30325   \n",
       "unique                 1431                 1369      223                37   \n",
       "top     2018-02-01 00:00:00  2019-01-31 00:00:00  ag00226          cob00031   \n",
       "freq                   1122                 1463     4620              7755   \n",
       "first   2017-01-01 00:00:00  2017-07-31 00:00:00      NaN               NaN   \n",
       "last    2021-11-17 00:00:00  2024-12-31 00:00:00      NaN               NaN   \n",
       "\n",
       "       client_type renewal_frequency   branch  \n",
       "count        30371             30371    30371  \n",
       "unique           3                 5       11  \n",
       "top         ct0001            rf0001  br00002  \n",
       "freq         16747             14184    13636  \n",
       "first          NaN               NaN      NaN  \n",
       "last           NaN               NaN      NaN  "
      ]
     },
     "execution_count": 18,
     "metadata": {},
     "output_type": "execute_result"
    }
   ],
   "source": [
    "policies.describe(include='all')"
   ]
  },
  {
   "cell_type": "markdown",
   "metadata": {},
   "source": [
    "There are no duplicate `claim_id`<br>\n",
    "\n",
    "There are missing values in the `policy_number`\n"
   ]
  },
  {
   "cell_type": "markdown",
   "metadata": {},
   "source": [
    "## Checking for missing values "
   ]
  },
  {
   "cell_type": "code",
   "execution_count": 19,
   "metadata": {},
   "outputs": [
    {
     "data": {
      "text/plain": [
       "policy_number         0\n",
       "product_code          0\n",
       "trans_date            0\n",
       "from_date             0\n",
       "to_date               0\n",
       "agent                 0\n",
       "class_of_business    46\n",
       "client_type           0\n",
       "renewal_frequency     0\n",
       "branch                0\n",
       "dtype: int64"
      ]
     },
     "execution_count": 19,
     "metadata": {},
     "output_type": "execute_result"
    }
   ],
   "source": [
    "policies.isnull().sum()"
   ]
  },
  {
   "cell_type": "code",
   "execution_count": 20,
   "metadata": {
    "scrolled": true
   },
   "outputs": [
    {
     "data": {
      "text/plain": [
       "claim_id              0\n",
       "policy_number        86\n",
       "claim_number          0\n",
       "sum_insured           0\n",
       "product               0\n",
       "agent                 0\n",
       "class_of_business     0\n",
       "risk_type             0\n",
       "loss_date             0\n",
       "client_type           0\n",
       "renewal_frequency     0\n",
       "primary_cause         0\n",
       "secondary_cause       0\n",
       "branch                0\n",
       "target                0\n",
       "dtype: int64"
      ]
     },
     "execution_count": 20,
     "metadata": {},
     "output_type": "execute_result"
    }
   ],
   "source": [
    "train_data.isnull().sum()"
   ]
  },
  {
   "cell_type": "code",
   "execution_count": 21,
   "metadata": {
    "scrolled": true
   },
   "outputs": [
    {
     "name": "stdout",
     "output_type": "stream",
     "text": [
      "<class 'pandas.core.frame.DataFrame'>\n",
      "RangeIndex: 9376 entries, 0 to 9375\n",
      "Data columns (total 15 columns):\n",
      " #   Column             Non-Null Count  Dtype  \n",
      "---  ------             --------------  -----  \n",
      " 0   claim_id           9376 non-null   object \n",
      " 1   policy_number      9290 non-null   object \n",
      " 2   claim_number       9376 non-null   object \n",
      " 3   sum_insured        9376 non-null   float64\n",
      " 4   product            9376 non-null   object \n",
      " 5   agent              9376 non-null   object \n",
      " 6   class_of_business  9376 non-null   object \n",
      " 7   risk_type          9376 non-null   object \n",
      " 8   loss_date          9376 non-null   object \n",
      " 9   client_type        9376 non-null   object \n",
      " 10  renewal_frequency  9376 non-null   object \n",
      " 11  primary_cause      9376 non-null   object \n",
      " 12  secondary_cause    9376 non-null   object \n",
      " 13  branch             9376 non-null   object \n",
      " 14  target             9376 non-null   float64\n",
      "dtypes: float64(2), object(13)\n",
      "memory usage: 1.1+ MB\n"
     ]
    }
   ],
   "source": [
    "train_data.info()"
   ]
  },
  {
   "cell_type": "markdown",
   "metadata": {},
   "source": [
    "### Exploratory Data Analysis"
   ]
  },
  {
   "cell_type": "code",
   "execution_count": 22,
   "metadata": {},
   "outputs": [
    {
     "name": "stdout",
     "output_type": "stream",
     "text": [
      "\n",
      "The unique values in claim_id\n",
      "['ID_JZ7QWRHH57RO' 'ID_KQ5TJMVLJ4EP' 'ID_NYHI7WJGGIAE' ...\n",
      " 'ID_GSJDAJCABSBZ' 'ID_8B7YNBEKXHJW' 'ID_8OB2QWUC664M']\n",
      "\n",
      "The unique values in policy_number\n",
      "['pol000009680' 'pol000006869' 'pol000006135' ... 'pol000006715'\n",
      " 'pol000006847' 'pol000007450']\n",
      "\n",
      "The unique values in claim_number\n",
      "['claim0011359' 'claim0005272' 'claim0004147' ... 'claim0008976'\n",
      " 'claim0005250' 'claim0006249']\n",
      "\n",
      "The unique values in product\n",
      "['prod00027' 'prod00005' 'prod00029' 'prod00015' 'prod00002' 'prod00013'\n",
      " 'prod00028' 'prod00018' 'prod00008' 'prod00012' 'prod00021' 'prod00011'\n",
      " 'prod00019' 'prod00034' 'prod00023' 'prod00016' 'prod00004' 'prod00006'\n",
      " 'prod00014' 'prod00026' 'prod00033' 'prod00031' 'prod00030' 'prod00017'\n",
      " 'prod00032' 'prod00001' 'prod00025' 'prod00009' 'prod00036' 'prod00037'\n",
      " 'prod00003' 'prod00007' 'prod00010' 'prod00022' 'prod00020' 'prod00024'\n",
      " 'prod00035']\n",
      "\n",
      "The unique values in agent\n",
      "['ag00068' 'ag00226' 'ag00037' 'ag00064' 'ag00044' 'ag00021' 'ag00083'\n",
      " 'ag00080']\n",
      "\n",
      "The unique values in class_of_business\n",
      "['cob00031' 'cob00010' 'cob00009' 'cob00034' 'cob00003' 'cob00022'\n",
      " 'cob00004' 'cob00021' 'cob00023' 'cob00013' 'cob00016' 'cob00027'\n",
      " 'cob00026' 'cob00015' 'cob00001' 'cob00024' 'cob00033' 'cob00018'\n",
      " 'cob00036' 'cob00017' 'cob00002' 'cob00011' 'cob00008' 'cob00030'\n",
      " 'cob00035' 'cob00029' 'cob00012' 'cob00038' 'cob00007' 'cob00019'\n",
      " 'cob00014' 'cob00028' 'cob00005' 'cob00006' 'cob00025' 'cob00037'\n",
      " 'cob00020']\n",
      "\n",
      "The unique values in risk_type\n",
      "['rt00006' 'rt00032' 'rt00026' 'rt00023' 'rt00002' 'rt00025' 'rt00001'\n",
      " 'rt00024' 'rt00022' 'rt00033' 'rt00027' 'rt00050' 'rt00015' 'rt00013'\n",
      " 'rt00018' 'rt00028' 'rt00019' 'rt00041' 'rt00017' 'rt00031' 'rt00035'\n",
      " 'rt00007' 'rt00003' 'rt00008' 'rt00029' 'rt00042' 'rt00039' 'rt00038'\n",
      " 'rt00009' 'rt00040' 'rt00012' 'rt00011' 'rt00010' 'rt00043' 'rt00044'\n",
      " 'rt00036' 'rt00004' 'rt00037' 'rt00005' 'rt00016' 'rt00020' 'rt00030'\n",
      " 'rt00046' 'rt00034' 'rt00045' 'rt00047' 'rt00049' 'rt00014' 'rt00021'\n",
      " 'rt00048']\n",
      "\n",
      "The unique values in loss_date\n",
      "['2021-05-13' '2018-05-13' '2018-08-18' ... '2020-05-14' '2021-10-18'\n",
      " '2020-09-01']\n",
      "\n",
      "The unique values in client_type\n",
      "['ct0003' 'ct0001' 'ct0002']\n",
      "\n",
      "The unique values in renewal_frequency\n",
      "['rf0001' 'rf0002' 'rf0003' 'rf0005' 'rf0004']\n",
      "\n",
      "The unique values in primary_cause\n",
      "['pc0007' 'pc0002' 'pc0001' 'pc0015' 'pc0017' 'pc0012' 'pc0011' 'pc0004'\n",
      " 'pc0005' 'pc0003' 'pc0008' 'pc0013' 'pc0009' 'pc0014' 'pc0010' 'pc0016'\n",
      " 'pc0019' 'pc0018' 'pc0006' 'pc0020' 'pc0021']\n",
      "\n",
      "The unique values in secondary_cause\n",
      "['sc00022' 'sc00023' 'sc00024' 'sc00021' 'sc00003' 'sc00004' 'sc00012'\n",
      " 'sc00002' 'sc00020' 'sc00052' 'sc00031' 'sc00053' 'sc00061' 'sc00029'\n",
      " 'sc00074' 'sc00032' 'sc00048' 'sc00017' 'sc00049' 'sc00019' 'sc00038'\n",
      " 'sc00008' 'sc00025' 'sc00016' 'sc00034' 'sc00013' 'sc00014' 'sc00039'\n",
      " 'sc00037' 'sc00051' 'sc00007' 'sc00045' 'sc00030' 'sc00009' 'sc00015'\n",
      " 'sc00027' 'sc00050' 'sc00059' 'sc00072' 'sc00064' 'sc00063' 'sc00026'\n",
      " 'sc00055' 'sc00044' 'sc00018' 'sc00057' 'sc00005' 'sc00060' 'sc00011'\n",
      " 'sc00036' 'sc00040' 'sc00058' 'sc00067' 'sc00010' 'sc00028' 'sc00066'\n",
      " 'sc00006' 'sc00042' 'sc00056' 'sc00041' 'sc00075' 'sc00046' 'sc00047'\n",
      " 'sc00035' 'sc00070' 'sc00062' 'sc00054' 'sc00033' 'sc00071' 'sc00077'\n",
      " 'sc00076' 'sc00043' 'sc00068' 'sc00079']\n",
      "\n",
      "The unique values in branch\n",
      "['br00006' 'br00002' 'br00001' 'br00009' 'br00005' 'br00004' 'br00007'\n",
      " 'br00008' 'br00003' 'br00011' 'br00010']\n"
     ]
    }
   ],
   "source": [
    "#Checking for unique values in the categorical features\n",
    "cat_col = []\n",
    "for c in train_data.columns:\n",
    "    if train_data[c].dtype == 'object':\n",
    "        cat_col.append(c)\n",
    "    \n",
    "def check_for_unique(data, col):\n",
    "    for column in col:\n",
    "        print()\n",
    "        print('The unique values in ' + column)\n",
    "        print(data[column].unique())\n",
    "\n",
    "check_for_unique(train_data, cat_col)"
   ]
  },
  {
   "cell_type": "code",
   "execution_count": 23,
   "metadata": {},
   "outputs": [],
   "source": [
    "#check the counts by day, month and year\n",
    "def countplot(data, columns):\n",
    "    sns.set_style('whitegrid')\n",
    "    \n",
    "    for c in columns:\n",
    "        print('The counts of insurance claim by ' + c)\n",
    "        sns.countplot(x=c, data=data)\n",
    "        plt.show()\n",
    "        \n",
    "#countplot(train_data, ['loss_date_day',  'loss_date_month', 'loss_date_year'])"
   ]
  },
  {
   "cell_type": "markdown",
   "metadata": {},
   "source": [
    "1. More customers claims in `2018` by year and te claim rate decreases by year\n",
    "2. More customers claim in `June`"
   ]
  },
  {
   "cell_type": "code",
   "execution_count": 24,
   "metadata": {},
   "outputs": [],
   "source": [
    "# Let's examine the relationship between the categorical features and the label\n",
    "\n",
    "# cat_col = []\n",
    "# for c in train_data.columns:\n",
    "#     if train_data[c].dtype == 'object':\n",
    "#         cat_col.append(c)\n",
    "    \n",
    "# def create_boxplot(data, col, col_y = 'target'):\n",
    "    \n",
    "#     for column in col:\n",
    "#         print('The boxplot between ' + column + ' vs. ' + col_y)\n",
    "#         fig = plt.figure(figsize = (7, 5))\n",
    "#         sns.set_style('whitegrid')\n",
    "#         sns.boxplot(column, \n",
    "#                 col_y, data = data)\n",
    "#         plt.xlabel(column.title())\n",
    "#         plt.ylabel(col_y.title())\n",
    "#         plt.show()\n",
    "\n",
    "\n",
    "# create_boxplot(train_data, cat_cols)"
   ]
  },
  {
   "cell_type": "code",
   "execution_count": 25,
   "metadata": {},
   "outputs": [],
   "source": [
    "# Let's examine the relationship btween the categorical features and the label\n",
    "\n",
    "# def create_boxplot(data, col, col_y = 'target'):\n",
    "    \n",
    "#     for column in col:\n",
    "#         print('The boxplot between ' + column + ' vs. ' + col_y)\n",
    "#         fig = plt.figure(figsize = (7, 5))\n",
    "#         sns.set_style('whitegrid')\n",
    "#         sns.boxplot(column, \n",
    "#                 col_y, data = data)\n",
    "#         plt.xlabel(column.title())\n",
    "#         plt.ylabel(col_y.title())\n",
    "#         plt.show()\n",
    "\n",
    "\n",
    "# create_boxplot(train_data, cat_col)"
   ]
  },
  {
   "cell_type": "code",
   "execution_count": 26,
   "metadata": {},
   "outputs": [
    {
     "name": "stdout",
     "output_type": "stream",
     "text": [
      "The scatter relationship between target vs. sum_insured\n"
     ]
    },
    {
     "data": {
      "image/png": "[encoded data removed]",
      "text/plain": [
       "<Figure size 432x288 with 1 Axes>"
      ]
     },
     "metadata": {
      "image/png": {
       "height": 272,
       "width": 375
      }
     },
     "output_type": "display_data"
    }
   ],
   "source": [
    "# Now lets visualise the numerical features\n",
    "# What's the strength of other numerical features with the target using scatter plot\n",
    "\n",
    "num_col = ['sum_insured']\n",
    "def create_scatter(data, col, col_y = 'target', alpha = 0.4):\n",
    "    for column in col:\n",
    "        sns.set_style('whitegrid')\n",
    "        print('The scatter relationship between ' + col_y + ' vs. ' + column)\n",
    "        sns.regplot(column, col_y, data, \n",
    "            scatter_kws = {'alpha':alpha}, color = 'blue', fit_reg = False)\n",
    "        plt.xlabel(column)\n",
    "        plt.ylabel(col_y)\n",
    "        plt.show()\n",
    "        \n",
    "create_scatter(train_data, num_col)"
   ]
  },
  {
   "cell_type": "markdown",
   "metadata": {},
   "source": [
    "This confirm that eventhough there's a strong relationship between the two variables, there's an extreme outlier values for `target` and `sum_insured`"
   ]
  },
  {
   "cell_type": "markdown",
   "metadata": {},
   "source": [
    "Let's further investigate the `target` and `sum_insured` using histogram plots "
   ]
  },
  {
   "cell_type": "code",
   "execution_count": 27,
   "metadata": {},
   "outputs": [
    {
     "name": "stdout",
     "output_type": "stream",
     "text": [
      "The distribution curve of target\n"
     ]
    },
    {
     "data": {
      "image/png": "[encoded data removed]",
      "text/plain": [
       "<Figure size 432x288 with 1 Axes>"
      ]
     },
     "metadata": {
      "image/png": {
       "height": 272,
       "width": 375
      }
     },
     "output_type": "display_data"
    }
   ],
   "source": [
    "col = ['target']\n",
    "def create_hist(data, col, hist = False, bins = 30):\n",
    "    for column in col:\n",
    "        print('The distribution curve of ' + column)\n",
    "        sns.set_style('whitegrid')\n",
    "        sns.distplot(data[column], rug = True, hist = hist)\n",
    "        plt.ylabel('Density')\n",
    "        plt.xlabel(column.title())\n",
    "        plt.show()\n",
    "create_hist(train_data, col, hist = True)"
   ]
  },
  {
   "cell_type": "markdown",
   "metadata": {},
   "source": [
    "Confirmed! Most of the target values are clustered in the 0-1.5e-6"
   ]
  },
  {
   "cell_type": "markdown",
   "metadata": {},
   "source": [
    "## Data Preparation"
   ]
  },
  {
   "cell_type": "markdown",
   "metadata": {},
   "source": [
    "1. Fill in missing category columns with vvalues that appear most\n",
    "2. Changed `loss_date` to datetime and split it into day, month and year\n",
    "3. Drop clolumns that **might** not help in prediction\n",
    "4. Encode categorical data\n",
    "5. Faeture se;ection toprevent overfitting \n",
    "5. Split data into train and validation set\n",
    "6. Scale data\n",
    "7. Train model and mopdel evaluation"
   ]
  },
  {
   "cell_type": "code",
   "execution_count": 28,
   "metadata": {
    "scrolled": true
   },
   "outputs": [
    {
     "data": {
      "text/html": [
       "<div>\n",
       "<style scoped>\n",
       "    .dataframe tbody tr th:only-of-type {\n",
       "        vertical-align: middle;\n",
       "    }\n",
       "\n",
       "    .dataframe tbody tr th {\n",
       "        vertical-align: top;\n",
       "    }\n",
       "\n",
       "    .dataframe thead th {\n",
       "        text-align: right;\n",
       "    }\n",
       "</style>\n",
       "<table border=\"1\" class=\"dataframe\">\n",
       "  <thead>\n",
       "    <tr style=\"text-align: right;\">\n",
       "      <th></th>\n",
       "      <th>agent</th>\n",
       "      <th>branch</th>\n",
       "      <th>class_of_business</th>\n",
       "      <th>client_type</th>\n",
       "      <th>primary_cause</th>\n",
       "      <th>product</th>\n",
       "      <th>renewal_frequency</th>\n",
       "      <th>risk_type</th>\n",
       "      <th>secondary_cause</th>\n",
       "    </tr>\n",
       "  </thead>\n",
       "  <tbody>\n",
       "    <tr>\n",
       "      <th>0</th>\n",
       "      <td>ag00068</td>\n",
       "      <td>br00006</td>\n",
       "      <td>cob00031</td>\n",
       "      <td>ct0003</td>\n",
       "      <td>pc0007</td>\n",
       "      <td>prod00027</td>\n",
       "      <td>rf0001</td>\n",
       "      <td>rt00006</td>\n",
       "      <td>sc00022</td>\n",
       "    </tr>\n",
       "    <tr>\n",
       "      <th>1</th>\n",
       "      <td>ag00226</td>\n",
       "      <td>br00002</td>\n",
       "      <td>cob00010</td>\n",
       "      <td>ct0003</td>\n",
       "      <td>pc0007</td>\n",
       "      <td>prod00005</td>\n",
       "      <td>rf0001</td>\n",
       "      <td>rt00032</td>\n",
       "      <td>sc00023</td>\n",
       "    </tr>\n",
       "    <tr>\n",
       "      <th>2</th>\n",
       "      <td>ag00037</td>\n",
       "      <td>br00002</td>\n",
       "      <td>cob00010</td>\n",
       "      <td>ct0003</td>\n",
       "      <td>pc0007</td>\n",
       "      <td>prod00029</td>\n",
       "      <td>rf0001</td>\n",
       "      <td>rt00026</td>\n",
       "      <td>sc00024</td>\n",
       "    </tr>\n",
       "    <tr>\n",
       "      <th>3</th>\n",
       "      <td>ag00037</td>\n",
       "      <td>br00001</td>\n",
       "      <td>cob00009</td>\n",
       "      <td>ct0003</td>\n",
       "      <td>pc0007</td>\n",
       "      <td>prod00005</td>\n",
       "      <td>rf0001</td>\n",
       "      <td>rt00032</td>\n",
       "      <td>sc00021</td>\n",
       "    </tr>\n",
       "    <tr>\n",
       "      <th>4</th>\n",
       "      <td>ag00226</td>\n",
       "      <td>br00001</td>\n",
       "      <td>cob00034</td>\n",
       "      <td>ct0001</td>\n",
       "      <td>pc0007</td>\n",
       "      <td>prod00015</td>\n",
       "      <td>rf0001</td>\n",
       "      <td>rt00023</td>\n",
       "      <td>sc00021</td>\n",
       "    </tr>\n",
       "  </tbody>\n",
       "</table>\n",
       "</div>"
      ],
      "text/plain": [
       "     agent   branch class_of_business client_type primary_cause    product  \\\n",
       "0  ag00068  br00006          cob00031      ct0003        pc0007  prod00027   \n",
       "1  ag00226  br00002          cob00010      ct0003        pc0007  prod00005   \n",
       "2  ag00037  br00002          cob00010      ct0003        pc0007  prod00029   \n",
       "3  ag00037  br00001          cob00009      ct0003        pc0007  prod00005   \n",
       "4  ag00226  br00001          cob00034      ct0001        pc0007  prod00015   \n",
       "\n",
       "  renewal_frequency risk_type secondary_cause  \n",
       "0            rf0001   rt00006         sc00022  \n",
       "1            rf0001   rt00032         sc00023  \n",
       "2            rf0001   rt00026         sc00024  \n",
       "3            rf0001   rt00032         sc00021  \n",
       "4            rf0001   rt00023         sc00021  "
      ]
     },
     "execution_count": 28,
     "metadata": {},
     "output_type": "execute_result"
    }
   ],
   "source": [
    "# Convert categorical variables to categorical objects\n",
    "cat_cols = train_data.columns.difference(['claim_id', 'loss_date', 'policy_number', 'claim_number', 'sum_insured', 'target']).tolist()\n",
    "\n",
    "# Preview categorical variables\n",
    "train_data[cat_cols].head()"
   ]
  },
  {
   "cell_type": "code",
   "execution_count": 29,
   "metadata": {},
   "outputs": [
    {
     "name": "stdout",
     "output_type": "stream",
     "text": [
      "<class 'pandas.core.frame.DataFrame'>\n",
      "RangeIndex: 9376 entries, 0 to 9375\n",
      "Data columns (total 15 columns):\n",
      " #   Column             Non-Null Count  Dtype   \n",
      "---  ------             --------------  -----   \n",
      " 0   claim_id           9376 non-null   object  \n",
      " 1   policy_number      9290 non-null   object  \n",
      " 2   claim_number       9376 non-null   object  \n",
      " 3   sum_insured        9376 non-null   float64 \n",
      " 4   product            9376 non-null   category\n",
      " 5   agent              9376 non-null   category\n",
      " 6   class_of_business  9376 non-null   category\n",
      " 7   risk_type          9376 non-null   category\n",
      " 8   loss_date          9376 non-null   object  \n",
      " 9   client_type        9376 non-null   category\n",
      " 10  renewal_frequency  9376 non-null   category\n",
      " 11  primary_cause      9376 non-null   category\n",
      " 12  secondary_cause    9376 non-null   category\n",
      " 13  branch             9376 non-null   category\n",
      " 14  target             9376 non-null   float64 \n",
      "dtypes: category(9), float64(2), object(4)\n",
      "memory usage: 532.9+ KB\n"
     ]
    }
   ],
   "source": [
    "# Fill in missing values in categorical variables with the most common\n",
    "train_data[cat_cols] = train_data[cat_cols].apply(lambda x: x.fillna(x.value_counts().index[0]))\n",
    "\n",
    "# Convert\n",
    "for col in cat_cols:\n",
    "    train_data[col] = train_data[col].astype('category')\n",
    "\n",
    "# Confirm the data\n",
    "train_data.info()"
   ]
  },
  {
   "cell_type": "markdown",
   "metadata": {},
   "source": [
    "## Feature Engineering"
   ]
  },
  {
   "cell_type": "markdown",
   "metadata": {},
   "source": [
    "Some category are extremely small, hence we'll feature engineer them"
   ]
  },
  {
   "cell_type": "code",
   "execution_count": 30,
   "metadata": {
    "scrolled": true
   },
   "outputs": [
    {
     "name": "stdout",
     "output_type": "stream",
     "text": [
      "\n",
      "The value counts of agent\n",
      "ag00037    3114\n",
      "ag00226    2548\n",
      "ag00068    2127\n",
      "ag00064     885\n",
      "ag00083     231\n",
      "ag00021     231\n",
      "ag00044     221\n",
      "ag00080      19\n",
      "Name: agent, dtype: int64\n",
      "\n",
      "The value counts of branch\n",
      "br00002    3900\n",
      "br00001    3242\n",
      "br00007     717\n",
      "br00005     587\n",
      "br00006     383\n",
      "br00009     225\n",
      "br00008     143\n",
      "br00004     133\n",
      "br00011      26\n",
      "br00003      17\n",
      "br00010       3\n",
      "Name: branch, dtype: int64\n",
      "\n",
      "The value counts of class_of_business\n",
      "cob00034    3608\n",
      "cob00009    2256\n",
      "cob00031     817\n",
      "cob00010     786\n",
      "cob00022     331\n",
      "cob00013     230\n",
      "cob00016     199\n",
      "cob00023     176\n",
      "cob00004     136\n",
      "cob00015     135\n",
      "cob00026     134\n",
      "cob00001     102\n",
      "cob00036      84\n",
      "cob00003      84\n",
      "cob00033      59\n",
      "cob00027      50\n",
      "cob00012      43\n",
      "cob00002      33\n",
      "cob00021      19\n",
      "cob00029      14\n",
      "cob00024      10\n",
      "cob00028       9\n",
      "cob00035       9\n",
      "cob00018       7\n",
      "cob00007       7\n",
      "cob00030       7\n",
      "cob00011       6\n",
      "cob00017       5\n",
      "cob00008       4\n",
      "cob00038       4\n",
      "cob00006       3\n",
      "cob00005       3\n",
      "cob00037       2\n",
      "cob00014       1\n",
      "cob00020       1\n",
      "cob00025       1\n",
      "cob00019       1\n",
      "Name: class_of_business, dtype: int64\n",
      "\n",
      "The value counts of client_type\n",
      "ct0001    6096\n",
      "ct0003    3188\n",
      "ct0002      92\n",
      "Name: client_type, dtype: int64\n",
      "\n",
      "The value counts of primary_cause\n",
      "pc0007    7396\n",
      "pc0002     571\n",
      "pc0001     314\n",
      "pc0012     230\n",
      "pc0015     204\n",
      "pc0017     197\n",
      "pc0011     132\n",
      "pc0004     106\n",
      "pc0005      91\n",
      "pc0003      81\n",
      "pc0013      13\n",
      "pc0014       8\n",
      "pc0009       7\n",
      "pc0010       6\n",
      "pc0019       5\n",
      "pc0008       4\n",
      "pc0018       4\n",
      "pc0006       3\n",
      "pc0021       2\n",
      "pc0016       1\n",
      "pc0020       1\n",
      "Name: primary_cause, dtype: int64\n",
      "\n",
      "The value counts of product\n",
      "prod00015    4411\n",
      "prod00005    1917\n",
      "prod00027     967\n",
      "prod00028     453\n",
      "prod00002     315\n",
      "prod00008     213\n",
      "prod00021     184\n",
      "prod00012     171\n",
      "prod00011     152\n",
      "prod00018     121\n",
      "prod00029      83\n",
      "prod00034      70\n",
      "prod00031      55\n",
      "prod00023      37\n",
      "prod00032      21\n",
      "prod00001      19\n",
      "prod00013      19\n",
      "prod00009      17\n",
      "prod00030      17\n",
      "prod00025      14\n",
      "prod00036      14\n",
      "prod00016      14\n",
      "prod00007      10\n",
      "prod00019      10\n",
      "prod00017      10\n",
      "prod00022       9\n",
      "prod00033       9\n",
      "prod00006       8\n",
      "prod00014       7\n",
      "prod00026       7\n",
      "prod00003       7\n",
      "prod00004       4\n",
      "prod00037       4\n",
      "prod00024       3\n",
      "prod00035       2\n",
      "prod00020       1\n",
      "prod00010       1\n",
      "Name: product, dtype: int64\n",
      "\n",
      "The value counts of renewal_frequency\n",
      "rf0002    4853\n",
      "rf0001    3324\n",
      "rf0003     753\n",
      "rf0005     281\n",
      "rf0004     165\n",
      "Name: renewal_frequency, dtype: int64\n",
      "\n",
      "The value counts of risk_type\n",
      "rt00023    3771\n",
      "rt00032    1896\n",
      "rt00006     967\n",
      "rt00033     453\n",
      "rt00025     331\n",
      "rt00024     323\n",
      "rt00050     213\n",
      "rt00002     193\n",
      "rt00015     171\n",
      "rt00013     153\n",
      "rt00018     135\n",
      "rt00001     122\n",
      "rt00027     121\n",
      "rt00026      83\n",
      "rt00041      70\n",
      "rt00039      55\n",
      "rt00031      40\n",
      "rt00012      31\n",
      "rt00040      21\n",
      "rt00022      19\n",
      "rt00008      17\n",
      "rt00010      17\n",
      "rt00043      14\n",
      "rt00011      14\n",
      "rt00009      11\n",
      "rt00034      10\n",
      "rt00028      10\n",
      "rt00003      10\n",
      "rt00005      10\n",
      "rt00038       9\n",
      "rt00030       9\n",
      "rt00042       9\n",
      "rt00037       8\n",
      "rt00019       8\n",
      "rt00029       7\n",
      "rt00004       7\n",
      "rt00035       7\n",
      "rt00017       5\n",
      "rt00007       4\n",
      "rt00044       4\n",
      "rt00014       3\n",
      "rt00036       3\n",
      "rt00020       3\n",
      "rt00049       2\n",
      "rt00045       2\n",
      "rt00016       1\n",
      "rt00021       1\n",
      "rt00047       1\n",
      "rt00046       1\n",
      "rt00048       1\n",
      "Name: risk_type, dtype: int64\n",
      "\n",
      "The value counts of secondary_cause\n",
      "sc00023    2980\n",
      "sc00021    1508\n",
      "sc00024    1389\n",
      "sc00022     655\n",
      "sc00004     540\n",
      "           ... \n",
      "sc00071       1\n",
      "sc00072       1\n",
      "sc00047       1\n",
      "sc00077       1\n",
      "sc00079       1\n",
      "Name: secondary_cause, Length: 74, dtype: int64\n"
     ]
    }
   ],
   "source": [
    "#checking for categorical value counts\n",
    "\n",
    "for c in cat_cols:\n",
    "    print()\n",
    "    print('The value counts of ' + c)\n",
    "    print(train_data[c].sort_index().value_counts())"
   ]
  },
  {
   "cell_type": "code",
   "execution_count": 31,
   "metadata": {},
   "outputs": [],
   "source": [
    "\n",
    "# cylinder_categories = {'three':'three_four', 'four':'three_four', \n",
    "#                     'five':'five_six', 'six':'five_six',\n",
    "#                     'eight':'eight_twelve', 'twelve':'eight_twelve'}\n",
    "# auto_prices['num_of_cylinders'] = [cylinder_categories[x] for x in auto_prices['num_of_cylinders']]\n",
    "# auto_prices['num_of_cylinders'].value_counts()"
   ]
  },
  {
   "cell_type": "markdown",
   "metadata": {},
   "source": [
    "## Data Preprocessing"
   ]
  },
  {
   "cell_type": "code",
   "execution_count": 32,
   "metadata": {
    "scrolled": true
   },
   "outputs": [
    {
     "data": {
      "text/html": [
       "<div>\n",
       "<style scoped>\n",
       "    .dataframe tbody tr th:only-of-type {\n",
       "        vertical-align: middle;\n",
       "    }\n",
       "\n",
       "    .dataframe tbody tr th {\n",
       "        vertical-align: top;\n",
       "    }\n",
       "\n",
       "    .dataframe thead th {\n",
       "        text-align: right;\n",
       "    }\n",
       "</style>\n",
       "<table border=\"1\" class=\"dataframe\">\n",
       "  <thead>\n",
       "    <tr style=\"text-align: right;\">\n",
       "      <th></th>\n",
       "      <th>loss_date</th>\n",
       "      <th>loss_date_day</th>\n",
       "      <th>loss_date_month</th>\n",
       "      <th>loss_date_year</th>\n",
       "    </tr>\n",
       "  </thead>\n",
       "  <tbody>\n",
       "    <tr>\n",
       "      <th>0</th>\n",
       "      <td>2021-05-13</td>\n",
       "      <td>13</td>\n",
       "      <td>5</td>\n",
       "      <td>2021</td>\n",
       "    </tr>\n",
       "    <tr>\n",
       "      <th>1</th>\n",
       "      <td>2018-05-13</td>\n",
       "      <td>13</td>\n",
       "      <td>5</td>\n",
       "      <td>2018</td>\n",
       "    </tr>\n",
       "    <tr>\n",
       "      <th>2</th>\n",
       "      <td>2018-08-18</td>\n",
       "      <td>18</td>\n",
       "      <td>8</td>\n",
       "      <td>2018</td>\n",
       "    </tr>\n",
       "    <tr>\n",
       "      <th>3</th>\n",
       "      <td>2018-12-20</td>\n",
       "      <td>20</td>\n",
       "      <td>12</td>\n",
       "      <td>2018</td>\n",
       "    </tr>\n",
       "    <tr>\n",
       "      <th>4</th>\n",
       "      <td>2018-11-07</td>\n",
       "      <td>7</td>\n",
       "      <td>11</td>\n",
       "      <td>2018</td>\n",
       "    </tr>\n",
       "  </tbody>\n",
       "</table>\n",
       "</div>"
      ],
      "text/plain": [
       "   loss_date  loss_date_day  loss_date_month  loss_date_year\n",
       "0 2021-05-13             13                5            2021\n",
       "1 2018-05-13             13                5            2018\n",
       "2 2018-08-18             18                8            2018\n",
       "3 2018-12-20             20               12            2018\n",
       "4 2018-11-07              7               11            2018"
      ]
     },
     "execution_count": 32,
     "metadata": {},
     "output_type": "execute_result"
    }
   ],
   "source": [
    "train_data.loss_date = pd.to_datetime(train_data.loss_date, errors='coerce')\n",
    "# Extract day, month and year from the loss date column\n",
    "# day\n",
    "train_data['loss_date_day'] = train_data.loss_date.dt.day\n",
    "\n",
    "# month\n",
    "train_data['loss_date_month'] = train_data.loss_date.dt.month\n",
    " \n",
    "# year\n",
    "train_data['loss_date_year'] = train_data.loss_date.dt.year\n",
    "\n",
    "# Preview engineered date features\n",
    "train_data[['loss_date', 'loss_date_day', 'loss_date_month', 'loss_date_year']].head()"
   ]
  },
  {
   "cell_type": "code",
   "execution_count": 33,
   "metadata": {},
   "outputs": [
    {
     "data": {
      "text/html": [
       "<div>\n",
       "<style scoped>\n",
       "    .dataframe tbody tr th:only-of-type {\n",
       "        vertical-align: middle;\n",
       "    }\n",
       "\n",
       "    .dataframe tbody tr th {\n",
       "        vertical-align: top;\n",
       "    }\n",
       "\n",
       "    .dataframe thead th {\n",
       "        text-align: right;\n",
       "    }\n",
       "</style>\n",
       "<table border=\"1\" class=\"dataframe\">\n",
       "  <thead>\n",
       "    <tr style=\"text-align: right;\">\n",
       "      <th></th>\n",
       "      <th>claim_id</th>\n",
       "      <th>policy_number</th>\n",
       "      <th>claim_number</th>\n",
       "      <th>sum_insured</th>\n",
       "      <th>product</th>\n",
       "      <th>agent</th>\n",
       "      <th>class_of_business</th>\n",
       "      <th>risk_type</th>\n",
       "      <th>loss_date</th>\n",
       "      <th>client_type</th>\n",
       "      <th>renewal_frequency</th>\n",
       "      <th>primary_cause</th>\n",
       "      <th>secondary_cause</th>\n",
       "      <th>branch</th>\n",
       "      <th>target</th>\n",
       "      <th>loss_date_day</th>\n",
       "      <th>loss_date_month</th>\n",
       "      <th>loss_date_year</th>\n",
       "    </tr>\n",
       "  </thead>\n",
       "  <tbody>\n",
       "    <tr>\n",
       "      <th>0</th>\n",
       "      <td>ID_JZ7QWRHH57RO</td>\n",
       "      <td>pol000009680</td>\n",
       "      <td>claim0011359</td>\n",
       "      <td>300000.0</td>\n",
       "      <td>prod00027</td>\n",
       "      <td>ag00068</td>\n",
       "      <td>cob00031</td>\n",
       "      <td>rt00006</td>\n",
       "      <td>2021-05-13</td>\n",
       "      <td>ct0003</td>\n",
       "      <td>rf0001</td>\n",
       "      <td>pc0007</td>\n",
       "      <td>sc00022</td>\n",
       "      <td>br00006</td>\n",
       "      <td>82150.00</td>\n",
       "      <td>13</td>\n",
       "      <td>5</td>\n",
       "      <td>2021</td>\n",
       "    </tr>\n",
       "    <tr>\n",
       "      <th>1</th>\n",
       "      <td>ID_KQ5TJMVLJ4EP</td>\n",
       "      <td>pol000006869</td>\n",
       "      <td>claim0005272</td>\n",
       "      <td>16000.0</td>\n",
       "      <td>prod00005</td>\n",
       "      <td>ag00226</td>\n",
       "      <td>cob00010</td>\n",
       "      <td>rt00032</td>\n",
       "      <td>2018-05-13</td>\n",
       "      <td>ct0003</td>\n",
       "      <td>rf0001</td>\n",
       "      <td>pc0007</td>\n",
       "      <td>sc00023</td>\n",
       "      <td>br00002</td>\n",
       "      <td>3780.24</td>\n",
       "      <td>13</td>\n",
       "      <td>5</td>\n",
       "      <td>2018</td>\n",
       "    </tr>\n",
       "    <tr>\n",
       "      <th>2</th>\n",
       "      <td>ID_NYHI7WJGGIAE</td>\n",
       "      <td>pol000006135</td>\n",
       "      <td>claim0004147</td>\n",
       "      <td>3000.0</td>\n",
       "      <td>prod00029</td>\n",
       "      <td>ag00037</td>\n",
       "      <td>cob00010</td>\n",
       "      <td>rt00026</td>\n",
       "      <td>2018-08-18</td>\n",
       "      <td>ct0003</td>\n",
       "      <td>rf0001</td>\n",
       "      <td>pc0007</td>\n",
       "      <td>sc00024</td>\n",
       "      <td>br00002</td>\n",
       "      <td>2196.50</td>\n",
       "      <td>18</td>\n",
       "      <td>8</td>\n",
       "      <td>2018</td>\n",
       "    </tr>\n",
       "    <tr>\n",
       "      <th>3</th>\n",
       "      <td>ID_ROMMDCXYUXN5</td>\n",
       "      <td>pol000008991</td>\n",
       "      <td>claim0009962</td>\n",
       "      <td>6000.0</td>\n",
       "      <td>prod00005</td>\n",
       "      <td>ag00037</td>\n",
       "      <td>cob00009</td>\n",
       "      <td>rt00032</td>\n",
       "      <td>2018-12-20</td>\n",
       "      <td>ct0003</td>\n",
       "      <td>rf0001</td>\n",
       "      <td>pc0007</td>\n",
       "      <td>sc00021</td>\n",
       "      <td>br00001</td>\n",
       "      <td>105.67</td>\n",
       "      <td>20</td>\n",
       "      <td>12</td>\n",
       "      <td>2018</td>\n",
       "    </tr>\n",
       "    <tr>\n",
       "      <th>4</th>\n",
       "      <td>ID_2OTD9NX8L73D</td>\n",
       "      <td>pol000007768</td>\n",
       "      <td>claim0007346</td>\n",
       "      <td>26850.0</td>\n",
       "      <td>prod00015</td>\n",
       "      <td>ag00226</td>\n",
       "      <td>cob00034</td>\n",
       "      <td>rt00023</td>\n",
       "      <td>2018-11-07</td>\n",
       "      <td>ct0001</td>\n",
       "      <td>rf0001</td>\n",
       "      <td>pc0007</td>\n",
       "      <td>sc00021</td>\n",
       "      <td>br00001</td>\n",
       "      <td>1605.64</td>\n",
       "      <td>7</td>\n",
       "      <td>11</td>\n",
       "      <td>2018</td>\n",
       "    </tr>\n",
       "  </tbody>\n",
       "</table>\n",
       "</div>"
      ],
      "text/plain": [
       "          claim_id policy_number  claim_number  sum_insured    product  \\\n",
       "0  ID_JZ7QWRHH57RO  pol000009680  claim0011359     300000.0  prod00027   \n",
       "1  ID_KQ5TJMVLJ4EP  pol000006869  claim0005272      16000.0  prod00005   \n",
       "2  ID_NYHI7WJGGIAE  pol000006135  claim0004147       3000.0  prod00029   \n",
       "3  ID_ROMMDCXYUXN5  pol000008991  claim0009962       6000.0  prod00005   \n",
       "4  ID_2OTD9NX8L73D  pol000007768  claim0007346      26850.0  prod00015   \n",
       "\n",
       "     agent class_of_business risk_type  loss_date client_type  \\\n",
       "0  ag00068          cob00031   rt00006 2021-05-13      ct0003   \n",
       "1  ag00226          cob00010   rt00032 2018-05-13      ct0003   \n",
       "2  ag00037          cob00010   rt00026 2018-08-18      ct0003   \n",
       "3  ag00037          cob00009   rt00032 2018-12-20      ct0003   \n",
       "4  ag00226          cob00034   rt00023 2018-11-07      ct0001   \n",
       "\n",
       "  renewal_frequency primary_cause secondary_cause   branch    target  \\\n",
       "0            rf0001        pc0007         sc00022  br00006  82150.00   \n",
       "1            rf0001        pc0007         sc00023  br00002   3780.24   \n",
       "2            rf0001        pc0007         sc00024  br00002   2196.50   \n",
       "3            rf0001        pc0007         sc00021  br00001    105.67   \n",
       "4            rf0001        pc0007         sc00021  br00001   1605.64   \n",
       "\n",
       "   loss_date_day  loss_date_month  loss_date_year  \n",
       "0             13                5            2021  \n",
       "1             13                5            2018  \n",
       "2             18                8            2018  \n",
       "3             20               12            2018  \n",
       "4              7               11            2018  "
      ]
     },
     "execution_count": 33,
     "metadata": {},
     "output_type": "execute_result"
    }
   ],
   "source": [
    "train_data.head()"
   ]
  },
  {
   "cell_type": "code",
   "execution_count": 34,
   "metadata": {},
   "outputs": [
    {
     "data": {
      "text/html": [
       "<div>\n",
       "<style scoped>\n",
       "    .dataframe tbody tr th:only-of-type {\n",
       "        vertical-align: middle;\n",
       "    }\n",
       "\n",
       "    .dataframe tbody tr th {\n",
       "        vertical-align: top;\n",
       "    }\n",
       "\n",
       "    .dataframe thead th {\n",
       "        text-align: right;\n",
       "    }\n",
       "</style>\n",
       "<table border=\"1\" class=\"dataframe\">\n",
       "  <thead>\n",
       "    <tr style=\"text-align: right;\">\n",
       "      <th></th>\n",
       "      <th>sum_insured</th>\n",
       "      <th>product</th>\n",
       "      <th>agent</th>\n",
       "      <th>class_of_business</th>\n",
       "      <th>risk_type</th>\n",
       "      <th>client_type</th>\n",
       "      <th>renewal_frequency</th>\n",
       "      <th>primary_cause</th>\n",
       "      <th>secondary_cause</th>\n",
       "      <th>branch</th>\n",
       "      <th>target</th>\n",
       "      <th>loss_date_day</th>\n",
       "      <th>loss_date_month</th>\n",
       "      <th>loss_date_year</th>\n",
       "    </tr>\n",
       "  </thead>\n",
       "  <tbody>\n",
       "    <tr>\n",
       "      <th>0</th>\n",
       "      <td>300000.0</td>\n",
       "      <td>prod00027</td>\n",
       "      <td>ag00068</td>\n",
       "      <td>cob00031</td>\n",
       "      <td>rt00006</td>\n",
       "      <td>ct0003</td>\n",
       "      <td>rf0001</td>\n",
       "      <td>pc0007</td>\n",
       "      <td>sc00022</td>\n",
       "      <td>br00006</td>\n",
       "      <td>82150.00</td>\n",
       "      <td>13</td>\n",
       "      <td>5</td>\n",
       "      <td>2021</td>\n",
       "    </tr>\n",
       "    <tr>\n",
       "      <th>1</th>\n",
       "      <td>16000.0</td>\n",
       "      <td>prod00005</td>\n",
       "      <td>ag00226</td>\n",
       "      <td>cob00010</td>\n",
       "      <td>rt00032</td>\n",
       "      <td>ct0003</td>\n",
       "      <td>rf0001</td>\n",
       "      <td>pc0007</td>\n",
       "      <td>sc00023</td>\n",
       "      <td>br00002</td>\n",
       "      <td>3780.24</td>\n",
       "      <td>13</td>\n",
       "      <td>5</td>\n",
       "      <td>2018</td>\n",
       "    </tr>\n",
       "  </tbody>\n",
       "</table>\n",
       "</div>"
      ],
      "text/plain": [
       "   sum_insured    product    agent class_of_business risk_type client_type  \\\n",
       "0     300000.0  prod00027  ag00068          cob00031   rt00006      ct0003   \n",
       "1      16000.0  prod00005  ag00226          cob00010   rt00032      ct0003   \n",
       "\n",
       "  renewal_frequency primary_cause secondary_cause   branch    target  \\\n",
       "0            rf0001        pc0007         sc00022  br00006  82150.00   \n",
       "1            rf0001        pc0007         sc00023  br00002   3780.24   \n",
       "\n",
       "   loss_date_day  loss_date_month  loss_date_year  \n",
       "0             13                5            2021  \n",
       "1             13                5            2018  "
      ]
     },
     "execution_count": 34,
     "metadata": {},
     "output_type": "execute_result"
    }
   ],
   "source": [
    "#dropping the columns that may not help in the prediction exercise\n",
    "train_data.drop(['loss_date', 'claim_id', 'policy_number', 'claim_number'], axis='columns', inplace=True)\n",
    "train_data.head(2)"
   ]
  },
  {
   "cell_type": "code",
   "execution_count": 35,
   "metadata": {},
   "outputs": [
    {
     "data": {
      "text/plain": [
       "False"
      ]
     },
     "execution_count": 35,
     "metadata": {},
     "output_type": "execute_result"
    }
   ],
   "source": [
    "train_data.isnull().sum().any()"
   ]
  },
  {
   "cell_type": "code",
   "execution_count": 36,
   "metadata": {},
   "outputs": [],
   "source": [
    "train_ = train_data.copy()"
   ]
  },
  {
   "cell_type": "code",
   "execution_count": 37,
   "metadata": {},
   "outputs": [
    {
     "data": {
      "text/plain": [
       "sum_insured           float64\n",
       "product              category\n",
       "agent                category\n",
       "class_of_business    category\n",
       "risk_type            category\n",
       "client_type          category\n",
       "renewal_frequency    category\n",
       "primary_cause        category\n",
       "secondary_cause      category\n",
       "branch               category\n",
       "target                float64\n",
       "loss_date_day           int64\n",
       "loss_date_month         int64\n",
       "loss_date_year          int64\n",
       "dtype: object"
      ]
     },
     "execution_count": 37,
     "metadata": {},
     "output_type": "execute_result"
    }
   ],
   "source": [
    "train_.dtypes"
   ]
  },
  {
   "cell_type": "code",
   "execution_count": 38,
   "metadata": {},
   "outputs": [],
   "source": [
    "# from scipy import stats\n",
    "# fitted_data, fitted_lambda = stats.boxcox(train_data['target'])\n",
    "# train_data.box_target = fitted_data\n",
    "# create_hist(train_data, ['box_target'], hist=True)"
   ]
  },
  {
   "cell_type": "markdown",
   "metadata": {},
   "source": [
    "\n",
    "\n",
    "## Feature Transformation"
   ]
  },
  {
   "cell_type": "code",
   "execution_count": 39,
   "metadata": {},
   "outputs": [],
   "source": [
    "num_col = ['sum_insured', 'loss_date_day', 'loss_date_month', 'loss_date_year']"
   ]
  },
  {
   "cell_type": "code",
   "execution_count": 40,
   "metadata": {},
   "outputs": [],
   "source": [
    "cat = ['agent', 'class_of_business', 'risk_type', 'client_type',\n",
    "      'renewal_frequency', 'primary_cause', 'secondary_cause', 'branch']\n",
    "\n",
    "def feature_encode(cat):\n",
    "    from sklearn.preprocessing import LabelEncoder, OneHotEncoder\n",
    "    # encode label\n",
    "    enc = LabelEncoder()\n",
    "    enc.fit(cat)\n",
    "    encoded = enc.transform(cat)\n",
    "    #one hot encoding \n",
    "    ohe = OneHotEncoder()\n",
    "    ohe_encoded = ohe.fit(encoded.reshape(-1, 1))\n",
    "    return ohe_encoded.transform(encoded.reshape(-1, 1)).toarray()"
   ]
  },
  {
   "cell_type": "code",
   "execution_count": 41,
   "metadata": {},
   "outputs": [
    {
     "data": {
      "text/plain": [
       "(9376, 48)"
      ]
     },
     "execution_count": 41,
     "metadata": {},
     "output_type": "execute_result"
    }
   ],
   "source": [
    "feature = feature_encode(train_data['product'])\n",
    "\n",
    "for c in cat:\n",
    "    encoded = feature_encode(train_data[c])\n",
    "    temp = np.concatenate([feature, encoded], axis=1)\n",
    "temp.shape"
   ]
  },
  {
   "cell_type": "code",
   "execution_count": 42,
   "metadata": {},
   "outputs": [
    {
     "data": {
      "text/plain": [
       "(9376, 52)"
      ]
     },
     "execution_count": 42,
     "metadata": {},
     "output_type": "execute_result"
    }
   ],
   "source": [
    "features = np.concatenate([temp, np.array(train_data[num_col])], axis=1)\n",
    "features.shape"
   ]
  },
  {
   "cell_type": "code",
   "execution_count": 43,
   "metadata": {
    "scrolled": true
   },
   "outputs": [
    {
     "data": {
      "text/plain": [
       "array([[0.000e+00, 0.000e+00, 0.000e+00, 0.000e+00, 0.000e+00, 0.000e+00,\n",
       "        0.000e+00, 0.000e+00, 0.000e+00, 0.000e+00, 0.000e+00, 0.000e+00,\n",
       "        0.000e+00, 0.000e+00, 0.000e+00, 0.000e+00, 0.000e+00, 0.000e+00,\n",
       "        0.000e+00, 0.000e+00, 0.000e+00, 0.000e+00, 0.000e+00, 0.000e+00,\n",
       "        0.000e+00, 0.000e+00, 1.000e+00, 0.000e+00, 0.000e+00, 0.000e+00,\n",
       "        0.000e+00, 0.000e+00, 0.000e+00, 0.000e+00, 0.000e+00, 0.000e+00,\n",
       "        0.000e+00, 0.000e+00, 0.000e+00, 0.000e+00, 0.000e+00, 0.000e+00,\n",
       "        1.000e+00, 0.000e+00, 0.000e+00, 0.000e+00, 0.000e+00, 0.000e+00,\n",
       "        3.000e+05, 1.300e+01, 5.000e+00, 2.021e+03]])"
      ]
     },
     "execution_count": 43,
     "metadata": {},
     "output_type": "execute_result"
    }
   ],
   "source": [
    "features[:1, :]"
   ]
  },
  {
   "cell_type": "markdown",
   "metadata": {},
   "source": [
    "Now we have 48 dummy variables and 4 numeric variables"
   ]
  },
  {
   "cell_type": "markdown",
   "metadata": {},
   "source": [
    "## Feature Selection"
   ]
  },
  {
   "cell_type": "code",
   "execution_count": 44,
   "metadata": {},
   "outputs": [
    {
     "name": "stdout",
     "output_type": "stream",
     "text": [
      "(9376, 9)\n"
     ]
    }
   ],
   "source": [
    "import sklearn.feature_selection as fs\n",
    "\n",
    "# Define the variance threhold and fit the threshold to the feature array. \n",
    "sel = fs.VarianceThreshold(threshold=(.9 * (1 - .9))) #Threshold of 90%\n",
    "Features_reduced = sel.fit_transform(features)\n",
    "print(Features_reduced.shape)"
   ]
  },
  {
   "cell_type": "code",
   "execution_count": 45,
   "metadata": {},
   "outputs": [
    {
     "data": {
      "text/plain": [
       "array([False, False, False, False,  True, False, False, False, False,\n",
       "       False, False, False, False, False,  True, False, False, False,\n",
       "       False, False, False, False, False, False, False, False,  True,\n",
       "       False, False, False, False, False, False, False, False, False,\n",
       "       False,  True,  True, False, False, False, False, False, False,\n",
       "       False, False, False,  True,  True,  True,  True])"
      ]
     },
     "execution_count": 45,
     "metadata": {},
     "output_type": "execute_result"
    }
   ],
   "source": [
    "sel.get_support()"
   ]
  },
  {
   "cell_type": "code",
   "execution_count": 46,
   "metadata": {},
   "outputs": [
    {
     "data": {
      "text/plain": [
       "array([[0.000e+00, 0.000e+00, 1.000e+00, 0.000e+00, 0.000e+00, 3.000e+05,\n",
       "        1.300e+01, 5.000e+00, 2.021e+03]])"
      ]
     },
     "execution_count": 46,
     "metadata": {},
     "output_type": "execute_result"
    }
   ],
   "source": [
    "Features_reduced[:1,:]"
   ]
  },
  {
   "cell_type": "markdown",
   "metadata": {},
   "source": [
    "## Splitting data into training and test set"
   ]
  },
  {
   "cell_type": "code",
   "execution_count": 47,
   "metadata": {},
   "outputs": [],
   "source": [
    "# Splitting the data into features and labels using bernoulli sampling;\n",
    "# and splitting the data\n",
    "\n",
    "np.random.seed(9988)\n",
    "from sklearn.model_selection import train_test_split  \n",
    "labels = np.array(train_data['target'])\n",
    "index = range(Features_reduced.shape[0])\n",
    "index = train_test_split(index, test_size = 2000)\n",
    "train_features = Features_reduced[index[0], :] # \n",
    "train_label = np.ravel(labels[index[0]])\n",
    "val_features = Features_reduced[index[1], :]\n",
    "val_label = np.ravel(labels[index[1]])"
   ]
  },
  {
   "cell_type": "code",
   "execution_count": 48,
   "metadata": {},
   "outputs": [
    {
     "data": {
      "text/plain": [
       "((7376, 9), (7376,), (2000, 9), (2000,))"
      ]
     },
     "execution_count": 48,
     "metadata": {},
     "output_type": "execute_result"
    }
   ],
   "source": [
    "train_features.shape, train_label.shape, val_features.shape, val_label.shape"
   ]
  },
  {
   "cell_type": "code",
   "execution_count": 49,
   "metadata": {},
   "outputs": [
    {
     "name": "stdout",
     "output_type": "stream",
     "text": [
      "(7376, 9)\n",
      "(7376,)\n",
      "[[ 0.          0.          0.          0.          0.         -0.07471349\n",
      "   0.49629041  0.5306067   0.07263115]]\n"
     ]
    }
   ],
   "source": [
    "## Here we'll be using the z-score normalization\n",
    "\n",
    "from sklearn.preprocessing import StandardScaler\n",
    "scaler = StandardScaler().fit(train_features[:, 5:])\n",
    "train_features[:, 5:] = scaler.transform(train_features[:, 5:])\n",
    "val_features[:, 5:] = scaler.transform(val_features[:, 5:])\n",
    "\n",
    "print(train_features.shape)\n",
    "print(train_label.shape)\n",
    "print(train_features[:1,:])"
   ]
  },
  {
   "cell_type": "markdown",
   "metadata": {},
   "source": [
    "## Train a model"
   ]
  },
  {
   "cell_type": "code",
   "execution_count": 50,
   "metadata": {},
   "outputs": [],
   "source": [
    "from sklearn.ensemble import ExtraTreesRegressor\n",
    "from sklearn.metrics import mean_absolute_error\n",
    "from sklearn.model_selection import GridSearchCV, RandomizedSearchCV\n",
    "from sklearn.model_selection import KFold\n",
    "from numpy.random import seed\n",
    "\n",
    "np.random.seed(9988)\n",
    "\n",
    "model = ExtraTreesRegressor(max_depth=3, criterion='mae', n_estimators=65, n_jobs=-1, \n",
    "                            min_samples_leaf=3, min_samples_split=5, verbose=1, random_state=42)"
   ]
  },
  {
   "cell_type": "code",
   "execution_count": 51,
   "metadata": {},
   "outputs": [],
   "source": [
    "# model = GradientBoostingRegressor(criterion='mae', max_depth=4,\n",
    "#                               min_samples_split=0.2)"
   ]
  },
  {
   "cell_type": "code",
   "execution_count": 52,
   "metadata": {},
   "outputs": [],
   "source": [
    "# params = {'n_estimators': [25, 50, 75, 100],\n",
    "#          'max_features': ['auto', 'sqrt', 'log2'],\n",
    "#           'min_samples_split' :[2, 4, 6],\n",
    "#           'min_samples_leaf': [1, 3, 6]\n",
    "#          }\n",
    "\n",
    "# fold = KFold(n_splits=10)\n",
    "# cv = GridSearchCV(estimator=model, param_grid=params, cv=fold)"
   ]
  },
  {
   "cell_type": "code",
   "execution_count": 53,
   "metadata": {},
   "outputs": [
    {
     "name": "stderr",
     "output_type": "stream",
     "text": [
      "[Parallel(n_jobs=-1)]: Using backend ThreadingBackend with 4 concurrent workers.\n",
      "[Parallel(n_jobs=-1)]: Done  42 tasks      | elapsed:   34.6s\n",
      "[Parallel(n_jobs=-1)]: Done  65 out of  65 | elapsed:   54.0s finished\n"
     ]
    },
    {
     "data": {
      "text/plain": [
       "ExtraTreesRegressor(criterion='mae', max_depth=3, min_samples_leaf=3,\n",
       "                    min_samples_split=5, n_estimators=65, n_jobs=-1,\n",
       "                    random_state=42, verbose=1)"
      ]
     },
     "execution_count": 53,
     "metadata": {},
     "output_type": "execute_result"
    }
   ],
   "source": [
    "model.fit(train_features, train_label)"
   ]
  },
  {
   "cell_type": "code",
   "execution_count": 54,
   "metadata": {},
   "outputs": [
    {
     "name": "stdout",
     "output_type": "stream",
     "text": [
      "The Mean absolute error =  32341.167826076922\n"
     ]
    },
    {
     "name": "stderr",
     "output_type": "stream",
     "text": [
      "[Parallel(n_jobs=4)]: Using backend ThreadingBackend with 4 concurrent workers.\n",
      "[Parallel(n_jobs=4)]: Done  42 tasks      | elapsed:    0.0s\n",
      "[Parallel(n_jobs=4)]: Done  65 out of  65 | elapsed:    0.0s finished\n"
     ]
    }
   ],
   "source": [
    "prediction = model.predict(val_features)\n",
    "print('The Mean absolute error = ', mean_absolute_error(val_label, prediction))"
   ]
  },
  {
   "cell_type": "code",
   "execution_count": 80,
   "metadata": {
    "scrolled": true
   },
   "outputs": [
    {
     "data": {
      "image/png": "[encoded data removed]",
      "text/plain": [
       "<Figure size 432x288 with 1 Axes>"
      ]
     },
     "metadata": {
      "image/png": {
       "height": 276,
       "width": 383
      }
     },
     "output_type": "display_data"
    }
   ],
   "source": [
    "import scipy.stats as ss\n",
    "def resid_qq(y_val, y_score):\n",
    "    ## first compute vector of residuals. \n",
    "    resids = np.subtract(y_val.reshape(-1,1), y_score.reshape(-1,1))\n",
    "    ## now make the residual plots\n",
    "    ss.probplot(resids.flatten(), plot = plt)\n",
    "    plt.title('Residuals vs. predicted values')\n",
    "    plt.xlabel('Predicted values')\n",
    "    plt.text(-1, 3e6, 'MAE = ' + round(mean_absolute_error(val_label, prediction), 2).astype(str), fontsize=12)\n",
    "    plt.ylabel('Residual')\n",
    "    plt.savefig('model.png')\n",
    "    \n",
    "resid_qq(val_label, prediction)  "
   ]
  },
  {
   "cell_type": "markdown",
   "metadata": {},
   "source": [
    "## Making prediction on test set"
   ]
  },
  {
   "cell_type": "markdown",
   "metadata": {},
   "source": [
    "\n",
    "   1. Fill in missing category columns with vvalues that appear most\n",
    "   2. Changed loss_date to datetime and split it into day, month and year\n",
    "   3. Drop clolumns that might not help in prediction\n",
    "   4. Encode categorical data\n",
    "   5. Faeture selection to prevent overfitting\n",
    "   6. Split data into train and validation set\n",
    "   7. Scale data\n",
    "   8. Train model and mopdel evaluation\n",
    "\n"
   ]
  },
  {
   "cell_type": "code",
   "execution_count": 56,
   "metadata": {},
   "outputs": [
    {
     "data": {
      "text/html": [
       "<div>\n",
       "<style scoped>\n",
       "    .dataframe tbody tr th:only-of-type {\n",
       "        vertical-align: middle;\n",
       "    }\n",
       "\n",
       "    .dataframe tbody tr th {\n",
       "        vertical-align: top;\n",
       "    }\n",
       "\n",
       "    .dataframe thead th {\n",
       "        text-align: right;\n",
       "    }\n",
       "</style>\n",
       "<table border=\"1\" class=\"dataframe\">\n",
       "  <thead>\n",
       "    <tr style=\"text-align: right;\">\n",
       "      <th></th>\n",
       "      <th>claim_id</th>\n",
       "      <th>policy_number</th>\n",
       "      <th>claim_number</th>\n",
       "      <th>sum_insured</th>\n",
       "      <th>product</th>\n",
       "      <th>agent</th>\n",
       "      <th>class_of_business</th>\n",
       "      <th>risk_type</th>\n",
       "      <th>loss_date</th>\n",
       "      <th>client_type</th>\n",
       "      <th>renewal_frequency</th>\n",
       "      <th>primary_cause</th>\n",
       "      <th>secondary_cause</th>\n",
       "      <th>branch</th>\n",
       "    </tr>\n",
       "  </thead>\n",
       "  <tbody>\n",
       "    <tr>\n",
       "      <th>0</th>\n",
       "      <td>ID_4RO0KZI9BBW2</td>\n",
       "      <td>pol000007115</td>\n",
       "      <td>claim0005757</td>\n",
       "      <td>300000.0</td>\n",
       "      <td>prod00005</td>\n",
       "      <td>ag00068</td>\n",
       "      <td>cob00009</td>\n",
       "      <td>rt00032</td>\n",
       "      <td>2021-03-11</td>\n",
       "      <td>ct0003</td>\n",
       "      <td>rf0001</td>\n",
       "      <td>pc0007</td>\n",
       "      <td>sc00029</td>\n",
       "      <td>br00004</td>\n",
       "    </tr>\n",
       "    <tr>\n",
       "      <th>1</th>\n",
       "      <td>ID_GTE9ZUJ9GZ97</td>\n",
       "      <td>pol000006008</td>\n",
       "      <td>claim0003037</td>\n",
       "      <td>2700000.0</td>\n",
       "      <td>prod00015</td>\n",
       "      <td>ag00064</td>\n",
       "      <td>cob00034</td>\n",
       "      <td>rt00023</td>\n",
       "      <td>2020-06-25</td>\n",
       "      <td>ct0001</td>\n",
       "      <td>rf0003</td>\n",
       "      <td>pc0007</td>\n",
       "      <td>sc00022</td>\n",
       "      <td>br00002</td>\n",
       "    </tr>\n",
       "    <tr>\n",
       "      <th>2</th>\n",
       "      <td>ID_RUVIYRKWZ4RG</td>\n",
       "      <td>pol000007651</td>\n",
       "      <td>claim0006507</td>\n",
       "      <td>4071352.0</td>\n",
       "      <td>prod00012</td>\n",
       "      <td>ag00021</td>\n",
       "      <td>cob00016</td>\n",
       "      <td>rt00015</td>\n",
       "      <td>2019-03-14</td>\n",
       "      <td>ct0001</td>\n",
       "      <td>rf0001</td>\n",
       "      <td>pc0011</td>\n",
       "      <td>sc00049</td>\n",
       "      <td>br00001</td>\n",
       "    </tr>\n",
       "    <tr>\n",
       "      <th>3</th>\n",
       "      <td>ID_J81X8SWU6JYN</td>\n",
       "      <td>pol000010981</td>\n",
       "      <td>claim0013636</td>\n",
       "      <td>0.0</td>\n",
       "      <td>prod00002</td>\n",
       "      <td>ag00037</td>\n",
       "      <td>cob00002</td>\n",
       "      <td>rt00002</td>\n",
       "      <td>2018-12-04</td>\n",
       "      <td>ct0001</td>\n",
       "      <td>rf0002</td>\n",
       "      <td>pc0002</td>\n",
       "      <td>sc00012</td>\n",
       "      <td>br00005</td>\n",
       "    </tr>\n",
       "    <tr>\n",
       "      <th>4</th>\n",
       "      <td>ID_94NM3JJAWWOQ</td>\n",
       "      <td>pol000005926</td>\n",
       "      <td>claim0001750</td>\n",
       "      <td>1607178.0</td>\n",
       "      <td>prod00015</td>\n",
       "      <td>ag00037</td>\n",
       "      <td>cob00034</td>\n",
       "      <td>rt00023</td>\n",
       "      <td>2019-09-18</td>\n",
       "      <td>ct0001</td>\n",
       "      <td>rf0003</td>\n",
       "      <td>pc0007</td>\n",
       "      <td>sc00022</td>\n",
       "      <td>br00002</td>\n",
       "    </tr>\n",
       "  </tbody>\n",
       "</table>\n",
       "</div>"
      ],
      "text/plain": [
       "          claim_id policy_number  claim_number  sum_insured    product  \\\n",
       "0  ID_4RO0KZI9BBW2  pol000007115  claim0005757     300000.0  prod00005   \n",
       "1  ID_GTE9ZUJ9GZ97  pol000006008  claim0003037    2700000.0  prod00015   \n",
       "2  ID_RUVIYRKWZ4RG  pol000007651  claim0006507    4071352.0  prod00012   \n",
       "3  ID_J81X8SWU6JYN  pol000010981  claim0013636          0.0  prod00002   \n",
       "4  ID_94NM3JJAWWOQ  pol000005926  claim0001750    1607178.0  prod00015   \n",
       "\n",
       "     agent class_of_business risk_type   loss_date client_type  \\\n",
       "0  ag00068          cob00009   rt00032  2021-03-11      ct0003   \n",
       "1  ag00064          cob00034   rt00023  2020-06-25      ct0001   \n",
       "2  ag00021          cob00016   rt00015  2019-03-14      ct0001   \n",
       "3  ag00037          cob00002   rt00002  2018-12-04      ct0001   \n",
       "4  ag00037          cob00034   rt00023  2019-09-18      ct0001   \n",
       "\n",
       "  renewal_frequency primary_cause secondary_cause   branch  \n",
       "0            rf0001        pc0007         sc00029  br00004  \n",
       "1            rf0003        pc0007         sc00022  br00002  \n",
       "2            rf0001        pc0011         sc00049  br00001  \n",
       "3            rf0002        pc0002         sc00012  br00005  \n",
       "4            rf0003        pc0007         sc00022  br00002  "
      ]
     },
     "execution_count": 56,
     "metadata": {},
     "output_type": "execute_result"
    }
   ],
   "source": [
    "#preprocessing the testdata\n",
    "test_data.head()"
   ]
  },
  {
   "cell_type": "code",
   "execution_count": 57,
   "metadata": {},
   "outputs": [
    {
     "data": {
      "text/plain": [
       "True"
      ]
     },
     "execution_count": 57,
     "metadata": {},
     "output_type": "execute_result"
    }
   ],
   "source": [
    "test_data.isnull().sum().any()"
   ]
  },
  {
   "cell_type": "code",
   "execution_count": 58,
   "metadata": {},
   "outputs": [
    {
     "data": {
      "text/plain": [
       "claim_id              0\n",
       "policy_number        41\n",
       "claim_number          0\n",
       "sum_insured           0\n",
       "product               0\n",
       "agent                 0\n",
       "class_of_business     0\n",
       "risk_type             0\n",
       "loss_date             0\n",
       "client_type           0\n",
       "renewal_frequency     0\n",
       "primary_cause         0\n",
       "secondary_cause       0\n",
       "branch                0\n",
       "dtype: int64"
      ]
     },
     "execution_count": 58,
     "metadata": {},
     "output_type": "execute_result"
    }
   ],
   "source": [
    "test_data.isnull().sum()"
   ]
  },
  {
   "cell_type": "code",
   "execution_count": 59,
   "metadata": {},
   "outputs": [
    {
     "name": "stdout",
     "output_type": "stream",
     "text": [
      "['sum_insured', 'loss_date_day', 'loss_date_month', 'loss_date_year']\n",
      "['agent', 'branch', 'class_of_business', 'client_type', 'primary_cause', 'product', 'renewal_frequency', 'risk_type', 'secondary_cause']\n"
     ]
    }
   ],
   "source": [
    "print(num_col)\n",
    "print(cat_cols)"
   ]
  },
  {
   "cell_type": "code",
   "execution_count": 60,
   "metadata": {
    "scrolled": true
   },
   "outputs": [
    {
     "name": "stdout",
     "output_type": "stream",
     "text": [
      "\n",
      "The values in agent\n",
      "ag00037    1319\n",
      "ag00226    1125\n",
      "ag00068     926\n",
      "ag00064     377\n",
      "ag00044      96\n",
      "ag00021      89\n",
      "ag00083      78\n",
      "ag00080       9\n",
      "Name: agent, dtype: int64\n",
      "\n",
      "The values in branch\n",
      "br00002    1674\n",
      "br00001    1385\n",
      "br00007     320\n",
      "br00005     233\n",
      "br00006     154\n",
      "br00009      99\n",
      "br00008      69\n",
      "br00004      66\n",
      "br00011      13\n",
      "br00003       5\n",
      "br00010       1\n",
      "Name: branch, dtype: int64\n",
      "\n",
      "The values in class_of_business\n",
      "cob00034    1622\n",
      "cob00009     947\n",
      "cob00031     329\n",
      "cob00010     317\n",
      "cob00022     166\n",
      "cob00016     104\n",
      "cob00013      79\n",
      "cob00023      70\n",
      "cob00004      62\n",
      "cob00015      57\n",
      "cob00026      51\n",
      "cob00036      41\n",
      "cob00001      40\n",
      "cob00003      35\n",
      "cob00033      20\n",
      "cob00027      19\n",
      "cob00012      16\n",
      "cob00002      11\n",
      "cob00028       6\n",
      "cob00029       5\n",
      "cob00021       5\n",
      "cob00038       2\n",
      "cob00011       2\n",
      "cob00005       2\n",
      "cob00024       2\n",
      "cob00007       2\n",
      "cob00030       1\n",
      "cob00037       1\n",
      "cob00008       1\n",
      "cob00006       1\n",
      "cob00017       1\n",
      "cob00035       1\n",
      "cob00018       1\n",
      "Name: class_of_business, dtype: int64\n",
      "\n",
      "The values in client_type\n",
      "ct0001    2653\n",
      "ct0003    1321\n",
      "ct0002      45\n",
      "Name: client_type, dtype: int64\n",
      "\n",
      "The values in primary_cause\n",
      "pc0007    3208\n",
      "pc0002     230\n",
      "pc0001     144\n",
      "pc0015      80\n",
      "pc0012      80\n",
      "pc0017      75\n",
      "pc0011      66\n",
      "pc0005      44\n",
      "pc0004      37\n",
      "pc0003      37\n",
      "pc0018       4\n",
      "pc0013       4\n",
      "pc0009       4\n",
      "pc0019       2\n",
      "pc0021       1\n",
      "pc0010       1\n",
      "pc0006       1\n",
      "pc0014       1\n",
      "Name: primary_cause, dtype: int64\n",
      "\n",
      "The values in product\n",
      "prod00015    1940\n",
      "prod00005     812\n",
      "prod00027     410\n",
      "prod00028     195\n",
      "prod00002     134\n",
      "prod00012      91\n",
      "prod00008      72\n",
      "prod00021      70\n",
      "prod00011      60\n",
      "prod00018      49\n",
      "prod00034      33\n",
      "prod00029      30\n",
      "prod00031      21\n",
      "prod00023      10\n",
      "prod00032      10\n",
      "prod00016       9\n",
      "prod00001       8\n",
      "prod00007       8\n",
      "prod00036       8\n",
      "prod00030       7\n",
      "prod00009       7\n",
      "prod00022       6\n",
      "prod00025       5\n",
      "prod00017       5\n",
      "prod00013       5\n",
      "prod00006       3\n",
      "prod00019       2\n",
      "prod00003       2\n",
      "prod00037       2\n",
      "prod00026       1\n",
      "prod00035       1\n",
      "prod00024       1\n",
      "prod00033       1\n",
      "prod00004       1\n",
      "Name: product, dtype: int64\n",
      "\n",
      "The values in renewal_frequency\n",
      "rf0002    2040\n",
      "rf0001    1448\n",
      "rf0003     332\n",
      "rf0005     114\n",
      "rf0004      85\n",
      "Name: renewal_frequency, dtype: int64\n",
      "\n",
      "The values in risk_type\n",
      "rt00023    1664\n",
      "rt00032     807\n",
      "rt00006     410\n",
      "rt00033     195\n",
      "rt00025     166\n",
      "rt00024     119\n",
      "rt00015      91\n",
      "rt00002      74\n",
      "rt00050      72\n",
      "rt00001      60\n",
      "rt00013      58\n",
      "rt00018      57\n",
      "rt00027      49\n",
      "rt00041      33\n",
      "rt00026      30\n",
      "rt00039      21\n",
      "rt00012      12\n",
      "rt00031      11\n",
      "rt00040      10\n",
      "rt00005       8\n",
      "rt00043       8\n",
      "rt00010       7\n",
      "rt00030       6\n",
      "rt00009       5\n",
      "rt00022       5\n",
      "rt00011       5\n",
      "rt00038       4\n",
      "rt00003       4\n",
      "rt00008       4\n",
      "rt00014       3\n",
      "rt00035       3\n",
      "rt00037       3\n",
      "rt00034       2\n",
      "rt00004       2\n",
      "rt00044       2\n",
      "rt00028       2\n",
      "rt00042       1\n",
      "rt00017       1\n",
      "rt00019       1\n",
      "rt00049       1\n",
      "rt00029       1\n",
      "rt00007       1\n",
      "rt00020       1\n",
      "Name: risk_type, dtype: int64\n",
      "\n",
      "The values in secondary_cause\n",
      "sc00023    1328\n",
      "sc00021     648\n",
      "sc00024     591\n",
      "sc00022     295\n",
      "sc00004     197\n",
      "           ... \n",
      "sc00035       1\n",
      "sc00033       1\n",
      "sc00028       1\n",
      "sc00041       1\n",
      "sc00069       1\n",
      "Name: secondary_cause, Length: 63, dtype: int64\n"
     ]
    }
   ],
   "source": [
    "for c in cat_cols:\n",
    "    print()\n",
    "    print('The values in ' + c)\n",
    "    print(test_data[c].value_counts())"
   ]
  },
  {
   "cell_type": "code",
   "execution_count": 61,
   "metadata": {
    "scrolled": false
   },
   "outputs": [
    {
     "name": "stdout",
     "output_type": "stream",
     "text": [
      "sum_insured           float64\n",
      "product              category\n",
      "agent                category\n",
      "class_of_business    category\n",
      "risk_type            category\n",
      "client_type          category\n",
      "renewal_frequency    category\n",
      "primary_cause        category\n",
      "secondary_cause      category\n",
      "branch               category\n",
      "loss_date_day           int64\n",
      "loss_date_month         int64\n",
      "loss_date_year          int64\n",
      "dtype: object\n"
     ]
    }
   ],
   "source": [
    "# Fill in missing values in categorical variables with the most common\n",
    "test_data[cat_cols] = test_data[cat_cols].apply(lambda x: x.fillna(x.value_counts().index[0]))\n",
    "\n",
    "# Convert datetime variables to datetime objects\n",
    "test_data.loss_date = pd.to_datetime(test_data.loss_date, errors='coerce')\n",
    "\n",
    "# Convert\n",
    "for col in cat_cols:\n",
    "    test_data[col] = test_data[col].astype('category')\n",
    "\n",
    "# Extract day, month and year from the loss date column\n",
    "test_data['loss_date_day'] = test_data.loss_date.dt.day #day\n",
    "\n",
    "test_data['loss_date_month'] = test_data.loss_date.dt.month #month\n",
    " \n",
    "test_data['loss_date_year'] = test_data.loss_date.dt.year #year\n",
    "\n",
    "test_data.drop(['claim_id', 'policy_number', 'claim_number', 'loss_date'], inplace=True, axis='columns')\n",
    "\n",
    "\n",
    "print(test_data.dtypes)"
   ]
  },
  {
   "cell_type": "code",
   "execution_count": 62,
   "metadata": {},
   "outputs": [
    {
     "data": {
      "text/html": [
       "<div>\n",
       "<style scoped>\n",
       "    .dataframe tbody tr th:only-of-type {\n",
       "        vertical-align: middle;\n",
       "    }\n",
       "\n",
       "    .dataframe tbody tr th {\n",
       "        vertical-align: top;\n",
       "    }\n",
       "\n",
       "    .dataframe thead th {\n",
       "        text-align: right;\n",
       "    }\n",
       "</style>\n",
       "<table border=\"1\" class=\"dataframe\">\n",
       "  <thead>\n",
       "    <tr style=\"text-align: right;\">\n",
       "      <th></th>\n",
       "      <th>sum_insured</th>\n",
       "      <th>product</th>\n",
       "      <th>agent</th>\n",
       "      <th>class_of_business</th>\n",
       "      <th>risk_type</th>\n",
       "      <th>client_type</th>\n",
       "      <th>renewal_frequency</th>\n",
       "      <th>primary_cause</th>\n",
       "      <th>secondary_cause</th>\n",
       "      <th>branch</th>\n",
       "      <th>loss_date_day</th>\n",
       "      <th>loss_date_month</th>\n",
       "      <th>loss_date_year</th>\n",
       "    </tr>\n",
       "  </thead>\n",
       "  <tbody>\n",
       "    <tr>\n",
       "      <th>0</th>\n",
       "      <td>300000.0</td>\n",
       "      <td>prod00005</td>\n",
       "      <td>ag00068</td>\n",
       "      <td>cob00009</td>\n",
       "      <td>rt00032</td>\n",
       "      <td>ct0003</td>\n",
       "      <td>rf0001</td>\n",
       "      <td>pc0007</td>\n",
       "      <td>sc00029</td>\n",
       "      <td>br00004</td>\n",
       "      <td>11</td>\n",
       "      <td>3</td>\n",
       "      <td>2021</td>\n",
       "    </tr>\n",
       "  </tbody>\n",
       "</table>\n",
       "</div>"
      ],
      "text/plain": [
       "   sum_insured    product    agent class_of_business risk_type client_type  \\\n",
       "0     300000.0  prod00005  ag00068          cob00009   rt00032      ct0003   \n",
       "\n",
       "  renewal_frequency primary_cause secondary_cause   branch  loss_date_day  \\\n",
       "0            rf0001        pc0007         sc00029  br00004             11   \n",
       "\n",
       "   loss_date_month  loss_date_year  \n",
       "0                3            2021  "
      ]
     },
     "execution_count": 62,
     "metadata": {},
     "output_type": "execute_result"
    }
   ],
   "source": [
    "test_data.head(1)"
   ]
  },
  {
   "cell_type": "code",
   "execution_count": 63,
   "metadata": {},
   "outputs": [
    {
     "data": {
      "text/plain": [
       "(4019, 13)"
      ]
     },
     "execution_count": 63,
     "metadata": {},
     "output_type": "execute_result"
    }
   ],
   "source": [
    "test_data.shape"
   ]
  },
  {
   "cell_type": "code",
   "execution_count": 64,
   "metadata": {},
   "outputs": [
    {
     "data": {
      "text/plain": [
       "(4019, 49)"
      ]
     },
     "execution_count": 64,
     "metadata": {},
     "output_type": "execute_result"
    }
   ],
   "source": [
    "# Label encode categorical variables\n",
    "test_feature = feature_encode(test_data['product'])\n",
    "\n",
    "for c in cat:\n",
    "    encoded = feature_encode(test_data[c])\n",
    "    temp = np.concatenate([test_feature, encoded], axis=1)\n",
    "\n",
    "test_features = np.concatenate([temp, np.array(test_data[num_col])], axis=1)\n",
    "\n",
    "\n",
    "# Preview engineered test dataset\n",
    "test_features.shape"
   ]
  },
  {
   "cell_type": "code",
   "execution_count": 65,
   "metadata": {},
   "outputs": [
    {
     "data": {
      "text/plain": [
       "array([[0.000e+00, 0.000e+00, 0.000e+00, 0.000e+00, 1.000e+00, 0.000e+00,\n",
       "        0.000e+00, 0.000e+00, 0.000e+00, 0.000e+00, 0.000e+00, 0.000e+00,\n",
       "        0.000e+00, 0.000e+00, 0.000e+00, 0.000e+00, 0.000e+00, 0.000e+00,\n",
       "        0.000e+00, 0.000e+00, 0.000e+00, 0.000e+00, 0.000e+00, 0.000e+00,\n",
       "        0.000e+00, 0.000e+00, 0.000e+00, 0.000e+00, 0.000e+00, 0.000e+00,\n",
       "        0.000e+00, 0.000e+00, 0.000e+00, 0.000e+00, 0.000e+00, 0.000e+00,\n",
       "        0.000e+00, 1.000e+00, 0.000e+00, 0.000e+00, 0.000e+00, 0.000e+00,\n",
       "        0.000e+00, 0.000e+00, 0.000e+00, 3.000e+05, 1.100e+01, 3.000e+00,\n",
       "        2.021e+03]])"
      ]
     },
     "execution_count": 65,
     "metadata": {},
     "output_type": "execute_result"
    }
   ],
   "source": [
    "test_features[:1,:]"
   ]
  },
  {
   "cell_type": "code",
   "execution_count": 66,
   "metadata": {},
   "outputs": [
    {
     "name": "stdout",
     "output_type": "stream",
     "text": [
      "(4019, 9)\n"
     ]
    }
   ],
   "source": [
    "# Define the variance threhold and fit the threshold to the feature array. \n",
    "# sel = fs.VarianceThreshold(threshold=(.9 * (1 - .9))) #Threshold of 90%\n",
    "Test_Features_reduced = sel.fit_transform(test_features)\n",
    "print(Test_Features_reduced.shape)"
   ]
  },
  {
   "cell_type": "code",
   "execution_count": 67,
   "metadata": {},
   "outputs": [],
   "source": [
    "test_data = StandardScaler().fit_transform(Test_Features_reduced)"
   ]
  },
  {
   "cell_type": "code",
   "execution_count": 68,
   "metadata": {},
   "outputs": [
    {
     "data": {
      "text/plain": [
       "array([[ 1.98733676, -0.9659922 , -0.33705323, -0.72513188, -0.84490193,\n",
       "        -0.05923867, -0.53791104, -0.95887954,  1.9918915 ]])"
      ]
     },
     "execution_count": 68,
     "metadata": {},
     "output_type": "execute_result"
    }
   ],
   "source": [
    "test_data[:1,:]"
   ]
  },
  {
   "cell_type": "code",
   "execution_count": 69,
   "metadata": {
    "scrolled": false
   },
   "outputs": [
    {
     "name": "stderr",
     "output_type": "stream",
     "text": [
      "[Parallel(n_jobs=4)]: Using backend ThreadingBackend with 4 concurrent workers.\n",
      "[Parallel(n_jobs=4)]: Done  42 tasks      | elapsed:    0.0s\n",
      "[Parallel(n_jobs=4)]: Done  65 out of  65 | elapsed:    0.0s finished\n"
     ]
    },
    {
     "data": {
      "image/png": "[encoded data removed]",
      "text/plain": [
       "<Figure size 864x432 with 1 Axes>"
      ]
     },
     "metadata": {
      "image/png": {
       "height": 385,
       "width": 683
      }
     },
     "output_type": "display_data"
    }
   ],
   "source": [
    "np.random.seed(9988)\n",
    "predictions = model.predict(test_data)\n",
    "\n",
    "# # Create a submission file\n",
    "sub_file = sample_submission.copy()\n",
    "sub_file.target = predictions\n",
    "\n",
    "# Check the distribution of your predictions\n",
    "plt.figure(figsize=(12, 6))\n",
    "sns.boxplot(sub_file.target)\n",
    "plt.title('Predictions Data Distribution');"
   ]
  },
  {
   "cell_type": "code",
   "execution_count": 70,
   "metadata": {
    "scrolled": false
   },
   "outputs": [
    {
     "data": {
      "text/html": [
       "<div>\n",
       "<style scoped>\n",
       "    .dataframe tbody tr th:only-of-type {\n",
       "        vertical-align: middle;\n",
       "    }\n",
       "\n",
       "    .dataframe tbody tr th {\n",
       "        vertical-align: top;\n",
       "    }\n",
       "\n",
       "    .dataframe thead th {\n",
       "        text-align: right;\n",
       "    }\n",
       "</style>\n",
       "<table border=\"1\" class=\"dataframe\">\n",
       "  <thead>\n",
       "    <tr style=\"text-align: right;\">\n",
       "      <th></th>\n",
       "      <th>claim_id</th>\n",
       "      <th>target</th>\n",
       "    </tr>\n",
       "  </thead>\n",
       "  <tbody>\n",
       "    <tr>\n",
       "      <th>0</th>\n",
       "      <td>ID_4RO0KZI9BBW2</td>\n",
       "      <td>80023.506846</td>\n",
       "    </tr>\n",
       "    <tr>\n",
       "      <th>1</th>\n",
       "      <td>ID_GTE9ZUJ9GZ97</td>\n",
       "      <td>21596.948385</td>\n",
       "    </tr>\n",
       "    <tr>\n",
       "      <th>2</th>\n",
       "      <td>ID_RUVIYRKWZ4RG</td>\n",
       "      <td>2006.313538</td>\n",
       "    </tr>\n",
       "    <tr>\n",
       "      <th>3</th>\n",
       "      <td>ID_J81X8SWU6JYN</td>\n",
       "      <td>566.978769</td>\n",
       "    </tr>\n",
       "    <tr>\n",
       "      <th>4</th>\n",
       "      <td>ID_94NM3JJAWWOQ</td>\n",
       "      <td>3091.203538</td>\n",
       "    </tr>\n",
       "    <tr>\n",
       "      <th>5</th>\n",
       "      <td>ID_TKCNGKSO1CMY</td>\n",
       "      <td>1755.477077</td>\n",
       "    </tr>\n",
       "    <tr>\n",
       "      <th>6</th>\n",
       "      <td>ID_T1HVS684BH5I</td>\n",
       "      <td>1755.477077</td>\n",
       "    </tr>\n",
       "    <tr>\n",
       "      <th>7</th>\n",
       "      <td>ID_T8UW9ST7U75S</td>\n",
       "      <td>700.867385</td>\n",
       "    </tr>\n",
       "    <tr>\n",
       "      <th>8</th>\n",
       "      <td>ID_MPCPOYBXBDQ9</td>\n",
       "      <td>700.867385</td>\n",
       "    </tr>\n",
       "    <tr>\n",
       "      <th>9</th>\n",
       "      <td>ID_PTR3D1Y4HKCO</td>\n",
       "      <td>700.867385</td>\n",
       "    </tr>\n",
       "    <tr>\n",
       "      <th>10</th>\n",
       "      <td>ID_BC4UJTA1DJB7</td>\n",
       "      <td>1852.685462</td>\n",
       "    </tr>\n",
       "    <tr>\n",
       "      <th>11</th>\n",
       "      <td>ID_03JOAPPUJI6H</td>\n",
       "      <td>1755.477077</td>\n",
       "    </tr>\n",
       "    <tr>\n",
       "      <th>12</th>\n",
       "      <td>ID_6DA9F02OTHSO</td>\n",
       "      <td>66650.997692</td>\n",
       "    </tr>\n",
       "    <tr>\n",
       "      <th>13</th>\n",
       "      <td>ID_JY758RRZZVA5</td>\n",
       "      <td>3091.203538</td>\n",
       "    </tr>\n",
       "    <tr>\n",
       "      <th>14</th>\n",
       "      <td>ID_9FQJ4MQEN5H8</td>\n",
       "      <td>66650.997692</td>\n",
       "    </tr>\n",
       "    <tr>\n",
       "      <th>15</th>\n",
       "      <td>ID_KINUO4FIN53W</td>\n",
       "      <td>41256.186462</td>\n",
       "    </tr>\n",
       "    <tr>\n",
       "      <th>16</th>\n",
       "      <td>ID_0TWXLFK8X4EK</td>\n",
       "      <td>2232.633385</td>\n",
       "    </tr>\n",
       "    <tr>\n",
       "      <th>17</th>\n",
       "      <td>ID_I6OMG6AI9ILY</td>\n",
       "      <td>18671.932231</td>\n",
       "    </tr>\n",
       "    <tr>\n",
       "      <th>18</th>\n",
       "      <td>ID_RVMFMHHRW1NO</td>\n",
       "      <td>19752.917923</td>\n",
       "    </tr>\n",
       "    <tr>\n",
       "      <th>19</th>\n",
       "      <td>ID_UCZH0BOUHPLA</td>\n",
       "      <td>24065.397462</td>\n",
       "    </tr>\n",
       "    <tr>\n",
       "      <th>20</th>\n",
       "      <td>ID_8AFFKZSAYZZ7</td>\n",
       "      <td>1852.685462</td>\n",
       "    </tr>\n",
       "    <tr>\n",
       "      <th>21</th>\n",
       "      <td>ID_90JC4ZNT0OJ4</td>\n",
       "      <td>1755.477077</td>\n",
       "    </tr>\n",
       "    <tr>\n",
       "      <th>22</th>\n",
       "      <td>ID_KCGFWWUG3GRU</td>\n",
       "      <td>566.978769</td>\n",
       "    </tr>\n",
       "    <tr>\n",
       "      <th>23</th>\n",
       "      <td>ID_GT5MHBR2CCZB</td>\n",
       "      <td>46118.740154</td>\n",
       "    </tr>\n",
       "    <tr>\n",
       "      <th>24</th>\n",
       "      <td>ID_Y73Z17TBVJH2</td>\n",
       "      <td>566.978769</td>\n",
       "    </tr>\n",
       "    <tr>\n",
       "      <th>25</th>\n",
       "      <td>ID_9OPVG2YWFOHJ</td>\n",
       "      <td>18671.932231</td>\n",
       "    </tr>\n",
       "    <tr>\n",
       "      <th>26</th>\n",
       "      <td>ID_TAR4XMXNQ78T</td>\n",
       "      <td>1755.477077</td>\n",
       "    </tr>\n",
       "    <tr>\n",
       "      <th>27</th>\n",
       "      <td>ID_BOH67OUBV0XA</td>\n",
       "      <td>47837.568923</td>\n",
       "    </tr>\n",
       "    <tr>\n",
       "      <th>28</th>\n",
       "      <td>ID_XE0ZOYIEJT1L</td>\n",
       "      <td>1774.750923</td>\n",
       "    </tr>\n",
       "    <tr>\n",
       "      <th>29</th>\n",
       "      <td>ID_A26VR0IPQPYK</td>\n",
       "      <td>700.867385</td>\n",
       "    </tr>\n",
       "  </tbody>\n",
       "</table>\n",
       "</div>"
      ],
      "text/plain": [
       "           claim_id        target\n",
       "0   ID_4RO0KZI9BBW2  80023.506846\n",
       "1   ID_GTE9ZUJ9GZ97  21596.948385\n",
       "2   ID_RUVIYRKWZ4RG   2006.313538\n",
       "3   ID_J81X8SWU6JYN    566.978769\n",
       "4   ID_94NM3JJAWWOQ   3091.203538\n",
       "5   ID_TKCNGKSO1CMY   1755.477077\n",
       "6   ID_T1HVS684BH5I   1755.477077\n",
       "7   ID_T8UW9ST7U75S    700.867385\n",
       "8   ID_MPCPOYBXBDQ9    700.867385\n",
       "9   ID_PTR3D1Y4HKCO    700.867385\n",
       "10  ID_BC4UJTA1DJB7   1852.685462\n",
       "11  ID_03JOAPPUJI6H   1755.477077\n",
       "12  ID_6DA9F02OTHSO  66650.997692\n",
       "13  ID_JY758RRZZVA5   3091.203538\n",
       "14  ID_9FQJ4MQEN5H8  66650.997692\n",
       "15  ID_KINUO4FIN53W  41256.186462\n",
       "16  ID_0TWXLFK8X4EK   2232.633385\n",
       "17  ID_I6OMG6AI9ILY  18671.932231\n",
       "18  ID_RVMFMHHRW1NO  19752.917923\n",
       "19  ID_UCZH0BOUHPLA  24065.397462\n",
       "20  ID_8AFFKZSAYZZ7   1852.685462\n",
       "21  ID_90JC4ZNT0OJ4   1755.477077\n",
       "22  ID_KCGFWWUG3GRU    566.978769\n",
       "23  ID_GT5MHBR2CCZB  46118.740154\n",
       "24  ID_Y73Z17TBVJH2    566.978769\n",
       "25  ID_9OPVG2YWFOHJ  18671.932231\n",
       "26  ID_TAR4XMXNQ78T   1755.477077\n",
       "27  ID_BOH67OUBV0XA  47837.568923\n",
       "28  ID_XE0ZOYIEJT1L   1774.750923\n",
       "29  ID_A26VR0IPQPYK    700.867385"
      ]
     },
     "execution_count": 70,
     "metadata": {},
     "output_type": "execute_result"
    }
   ],
   "source": [
    "sub_file.head(30)"
   ]
  },
  {
   "cell_type": "code",
   "execution_count": 71,
   "metadata": {},
   "outputs": [],
   "source": [
    "# Write to csv file to submit to Zindi\n",
    "sub_file.to_csv(\"Submission.csv\", index = False)"
   ]
  },
  {
   "cell_type": "markdown",
   "metadata": {},
   "source": []
  },
  {
   "cell_type": "code",
   "execution_count": null,
   "metadata": {},
   "outputs": [],
   "source": []
  },
  {
   "cell_type": "code",
   "execution_count": null,
   "metadata": {},
   "outputs": [],
   "source": []
  }
 ],
 "metadata": {
  "kernelspec": {
   "display_name": "Python 3",
   "language": "python",
   "name": "python3"
  },
  "language_info": {
   "codemirror_mode": {
    "name": "ipython",
    "version": 3
   },
   "file_extension": ".py",
   "mimetype": "text/x-python",
   "name": "python",
   "nbconvert_exporter": "python",
   "pygments_lexer": "ipython3",
   "version": "3.8.3"
  }
 },
 "nbformat": 4,
 "nbformat_minor": 4
}
